{
 "cells": [
  {
   "cell_type": "code",
   "execution_count": 121,
   "metadata": {},
   "outputs": [],
   "source": [
    "import sympy as sp\n",
    "\n",
    "import numpy as np\n",
    "\n",
    "import itertools\n",
    "\n",
    "import matplotlib.pyplot as plt\n",
    "\n",
    "plt.rcParams[\"font.family\"] = \"serif\"\n",
    "plt.rcParams[\"mathtext.fontset\"] = \"stix\"\n",
    "\n",
    "import scipy\n",
    "\n",
    "import scipy.interpolate\n",
    "\n",
    "import scipy.integrate\n",
    "\n",
    "precision = 333\n",
    "\n",
    "import mpmath\n",
    "mpmath.mp.prec = precision\n",
    "\n",
    "#what happens if I create another object and same var names but I want different values? Does sympy create two different instances?\n",
    "\n",
    "class expression():\n",
    "    # args here is just the list of variables used \n",
    "    def __init__(self, *args):\n",
    "        var_list = []\n",
    "        var_list_names = []\n",
    "        ns = {}\n",
    "        for a in args:\n",
    "            symb = sp.symbols(a)\n",
    "            setattr(self, a, symb)\n",
    "            ns[a] = symb\n",
    "            var_list += [symb]\n",
    "            var_list_names += [a]\n",
    "        self.vars = var_list\n",
    "        self.vars_names = var_list_names\n",
    "        self.ns = ns        \n",
    "\n",
    "    def add_extra_var(self, name, expression):\n",
    "        setattr(self, name, expression)\n",
    "\n",
    "    # similar to add_extra_var but logic of usage is different  \n",
    "    def add_expression(self, expression_name: str, expr):\n",
    "        setattr(self, expression_name, sp.sympify(expr, locals = self.ns))\n",
    "        \n",
    "    def __add__(self, other_object_expression):\n",
    "        return  \n",
    "\n",
    "    def get_expression(self, expression_name):\n",
    "        return getattr(self, expression_name)\n",
    "\n",
    "    def evaluate_expression(self, expression_name, **valuesdict):\n",
    "        expr = getattr(self, expression_name)\n",
    "        expr_numpy = sp.lambdify(self.vars, expr, 'numpy')\n",
    "        return expr_numpy(**valuesdict)\n",
    "\n",
    "    def derivate(self, expression_name, variable_of_derivation, save_derivative = False):\n",
    "        derivative = sp.diff(getattr(self, expression_name), variable_of_derivation) \n",
    "        if save_derivative:\n",
    "            der_expression_name = 'der'+str(variable_of_derivation)+'_'+expression_name\n",
    "            setattr(self, der_expression_name, derivative)\n",
    "        return derivative\n",
    "\n",
    "    def change_expression(self, expression_name, new_expression_value):\n",
    "        setattr(self, expression_name, sp.sympify(new_expression_value, locals = self.ns))\n",
    "        return\n",
    "\n",
    "\n",
    "class Forecaster(expression):\n",
    "\n",
    "    def __init__(self, K, *args):\n",
    "        self.K = K\n",
    "        self.length_K = len(K)\n",
    "        expression.__init__(self, *args)\n",
    "        self.K = K\n",
    "        self.length_K = len(K)\n",
    "\n",
    "    def add_cov_matrix(self, covariance_matrix_dict, ):\n",
    "        elements = []\n",
    "        expressions_list = []\n",
    "        for key, value in covariance_matrix_dict.items():\n",
    "            self.add_expression(key, value)\n",
    "            expressions_list += [self.get_expression(key)]\n",
    "            elements += [key]\n",
    "        self.covmatrix_str = elements\n",
    "\n",
    "        p = len(self.covmatrix_str)\n",
    "        matrix_dim = int((-1+np.sqrt(1+8*p))/2)\n",
    "        self.matrix_dim = matrix_dim\n",
    "\n",
    "        shape = [matrix_dim, matrix_dim]\n",
    "        covariance = sp.zeros(*shape)\n",
    "\n",
    "        for i in range(matrix_dim):\n",
    "            covariance[i, :] = [expressions_list[i:matrix_dim+i]] \n",
    "        #print(expressions_list) \n",
    "        #print(covariance)\n",
    "        #symm = covariance+covariance.T\n",
    "        #covariance = sp.Matrix(matrix_dim, matrix_dim, lambda i, j: symm[i, j]/2 if i==j else symm[i, j])\n",
    "        #print(covariance) \n",
    "        self.cov_matrix = covariance\n",
    "\n",
    " \n",
    "    def plot_cov(self, var_values, legend = {'Plin': 'black'}, title = 'Covs', xlabel = '$K$ $(h Mpc^{-1})$', ylabel = '$P$ $(h^3 Mpc^{-3})$', output_name = ''):\n",
    "\n",
    "        K = self.K\n",
    "\n",
    "        all_vars = self.vars\n",
    "        numpy_covariance_matrix = sp.lambdify(all_vars, self.cov_matrix, 'numpy') \n",
    "        temp_cov = numpy_covariance_matrix(**var_values)\n",
    "\n",
    "        ##quicky, but it should be done like above\n",
    "  \n",
    "        spectra = {} \n",
    "\n",
    "        gg = temp_cov[0, 0, :]\n",
    "        nn = temp_cov[1, 1, :]\n",
    "        gn = temp_cov[0, 1, :]\n",
    "\n",
    "        spectra['Pgg'] = gg\n",
    "        spectra['Pgn'] = gn\n",
    "        spectra['Pnn'] = nn\n",
    "\n",
    "        if 'Plin' in legend.keys():\n",
    "            Plin = var_values['Plin']\n",
    "            spectra['Plin'] = Plin            \n",
    "        \n",
    "        spectra['shot'] = K*0.+1./var_values['nhalo']\n",
    "        spectra['Ngg'] = var_values['Ngg']\n",
    "          \n",
    "\n",
    "        fig, ax = plt.subplots(nrows = 1, ncols = 1)\n",
    "        plt.title(title)\n",
    "        plt.xlabel(xlabel)\n",
    "        plt.ylabel(ylabel)\n",
    "\n",
    "        for v in legend.keys():\n",
    "            plt.plot(K, spectra[v], label = v, color = legend[v]['color'], ls = legend[v]['ls'], lw = 2)\n",
    "\n",
    "\n",
    "        ax.legend(loc = 'best', prop = {'size': 6})\n",
    "        fig.savefig(output_name, dpi = 300)\n",
    "        plt.close(fig)        \n",
    "\n",
    "\n",
    "    def __fab__(self, cgg, dera_cgg, derb_cgg):\n",
    "        A = dera_cgg/cgg\n",
    "        B = derb_cgg/cgg\n",
    "        tot = 1./2.\n",
    "        tot *= A*B\n",
    "        return tot\n",
    "\n",
    "    def __get__inv(self):\n",
    "        return 0\n",
    "    def __getF__(self, covariance_matrix, dera_covariance_matrix, derb_covariance_matrix, numpify = False, var_values = None):\n",
    "        if numpify:\n",
    "                all_vars = self.vars\n",
    "\n",
    "                po = sp.symbols('po')\n",
    "                if po not in all_vars:\n",
    "                    all_vars += [po]\n",
    "                    var_values['po'] = np.ones(self.length_K)\n",
    "             \n",
    "                #for k, v in var_values.items():\n",
    "                #    var_values[k] = \n",
    " \n",
    "                method = 'numpy'\n",
    "                numpy_covariance_matrix = sp.lambdify(all_vars, covariance_matrix, method)\n",
    "                numpy_dera_covariance_matrix = sp.lambdify(all_vars, dera_covariance_matrix+po*sp.ones(*covariance_matrix.shape), method) #sometimes you could have 0. or constant derivative from sympy --> do not vectorize\n",
    "                numpy_derb_covariance_matrix = sp.lambdify(all_vars, derb_covariance_matrix+po*sp.ones(*covariance_matrix.shape), method)\n",
    "               \n",
    "                #numpy_covariance_matrix = np.vectorize(numpy_covariance_matrix)\n",
    "                #numpy_dera_covariance_matrix= np.vectorize(numpy_dera_covariance_matrix)\n",
    "                #numpy_derb_covariance_matrix = np.vectorize(numpy_derb_covariance_matrix) \n",
    "               \n",
    "                '''\n",
    "                @np.vectorize \n",
    "                def get_covmat(b10 = 1, b01 = 1, b11 = 1, b20 = 1, bs2 = 1, fnl = 1, nhalo = 1, Pnlin = np.ones(3), M = np.ones(3), deltac = 1, a1 = 1, a2 = 1, new_bias = 1, Nphiphig =  np.ones(3), Ngt = np.ones(3), Ngs = np.ones(3), Ngg = np.ones(3), Nc02g = np.ones(3), Nc01g = np.ones(3), Nc11g = np.ones(3)):\n",
    "                    return numpy_covariance_matrix(b10, b01, b11, b20, bs2, fnl, nhalo, Pnlin, M, deltac, a1, a2, new_bias, Nphiphig, Ngt, Ngs, Ngg, Nc02g, Nc01g, Nc11g)\n",
    "                '''\n",
    "                \n",
    "                cov_mat = numpy_covariance_matrix(**var_values)\n",
    "                dera_cov_mat = numpy_dera_covariance_matrix(**var_values)\n",
    "                derb_cov_mat = numpy_derb_covariance_matrix(**var_values)\n",
    "\n",
    "                shape = cov_mat.shape\n",
    "\n",
    "                final = []\n",
    "\n",
    "                for i in range(shape[-1]):\n",
    "                    cov = cov_mat[:, :, i]\n",
    "                    dera_cov = dera_cov_mat[:, :, i]-var_values['po'][i]*1\n",
    "                    derb_cov = derb_cov_mat[:, :, i]-var_values['po'][i]*1\n",
    "                    invC = np.linalg.inv(cov)\n",
    "                    prod = dera_cov@invC@derb_cov@invC\n",
    "                    final += [0.5*np.matrix.trace(prod)]\n",
    "\n",
    "                final = np.array(final)\n",
    "        else:\n",
    "\n",
    "                '''\n",
    "                Nx, Ny = covariance_matrix.shape[0], covariance_matrix.shape[1] #note they should be equal for a covariance matrix\n",
    "                temp_matrix = sp.zeros(Nx, Ny)\n",
    "                N = Nx #or Ny                \n",
    "                tot_elements = N*(N+1)/2\n",
    "\n",
    "                auxilary_variables = ['A'+str(i) for i in range(tot_elements)]\n",
    "                \n",
    "                temp_matrix = sp.Matrix(N, N, lambda i, j: sp.var('temp_%s%s' % (i, j) ))\n",
    " \n",
    "                for i in range(N):\n",
    "                    for j in range(i, N):\n",
    "                        var_temp = 'A_'+str(i)+str(j)\n",
    "                        auxilary_variables += [var_temp]\n",
    "                        exec(var_temp+'=0')\n",
    "                        globals()[var_temp] = sp.symbols(var_temp)\n",
    "                        temp_matrix[i, j] = globals()[var_temp]\n",
    "                        temp_matrix[j, i] = temp_matrix[i, j]                                 \n",
    "               \n",
    "                print(temp_matrix)\n",
    "\n",
    "                inv_temp_matrix = temp_matrix.inv()\n",
    "\n",
    "                invC = sp.zeros(Nx, Ny)\n",
    " \n",
    "                for i in range(N):\n",
    "                    for j in range(i, N):   \n",
    "                        invC[i, j] = inv_temp_matrix[i, j]\n",
    "                '''\n",
    "                #Sympy way, non numerical. Fastish for simple expressions. More complex expressions can take 'infinite' time.\n",
    "                #To be improved\n",
    "                ##quick fix till i figure how i can do inv with all these vars as sympy gets stuck\n",
    "                ##maybe just define general matrix and then subs values\n",
    "                ##or calculate F directly on numbers!\n",
    "                if covariance_matrix.shape == (2, 2):\n",
    "                    print('Using temporary hack for 2x2 covariance matrices, soon generalization')\n",
    "                    Atemp, Btemp, Ctemp = sp.symbols('Atemp Btemp Ctemp')\n",
    "                    N = sp.Matrix([[Atemp, Btemp], [Btemp, Ctemp]])\n",
    "      \n",
    "                    invN = N.inv()\n",
    "                    invC = invN.subs({Atemp: covariance_matrix[0, 0], Btemp: covariance_matrix[0, 1], Ctemp: covariance_matrix[1, 1]}) \n",
    "                else:\n",
    "                    invC = covariance_matrix.inv()\n",
    "\t         \n",
    "                prod = dera_covariance_matrix*invC*derb_covariance_matrix*invC\n",
    "                tr = prod.trace()\n",
    "                final = 0.5*tr #sp.simplify(tr)\n",
    "        return final \n",
    "\n",
    "\n",
    "    def get_fisher_matrix(self, variables_list = [], numpify = False, var_values = None, verbose = True):\n",
    "\n",
    "\n",
    "        '''\n",
    "        for vv in var_values.keys():\n",
    "            try:\n",
    "                ll = len(var_values[vv])\n",
    "                if ll > 1:\n",
    "                    self.length_K = ll\n",
    "                break\n",
    "            except:\n",
    "                a = 1 #dummy operation\n",
    "        '''\n",
    "\n",
    "        matrix_dim = self.matrix_dim\n",
    "        shape = [matrix_dim, matrix_dim]\n",
    "\n",
    "        for variable in self.vars:\n",
    "            der_cov = sp.diff(self.cov_matrix, variable) \n",
    "            setattr(self, 'der'+str(variable)+'_matrix', der_cov)\n",
    "    \n",
    "        if variables_list == []:\n",
    "            lista = self.vars\n",
    "            s = ' all '         \n",
    "        else:\n",
    "            lista = variables_list\n",
    "            s = ' '\n",
    "\n",
    "        if verbose:\n",
    "            print('Using'+s+'parameters list:', lista)\n",
    "\n",
    "        self.fisher_list = lista\n",
    "\n",
    "        combs = list(itertools.combinations_with_replacement(list(lista), 2))    \n",
    "       \n",
    "        N = len(lista)\n",
    "        shape = [N, N]\n",
    "        fab = sp.zeros(*shape)\n",
    "\n",
    "        fab_numpy = np.zeros((N, N, self.length_K))\n",
    "\n",
    "        if verbose:\n",
    "            print('Calculating fisher matrix')\n",
    "\n",
    "        for a, b in combs:\n",
    "            dera_cov = self.get_expression('der'+str(a)+'_matrix')\n",
    "            derb_cov = self.get_expression('der'+str(b)+'_matrix')\n",
    "            i, j = lista.index(a), lista.index(b)\n",
    "            f = self.__getF__(self.cov_matrix, dera_cov, derb_cov, numpify, var_values)\n",
    "            if numpify:\n",
    "                fab_numpy[i, j, :] = f\n",
    "                fab_numpy[j, i, :] = f                \n",
    "            else:\n",
    "                fab[i, j] = f\n",
    "                fab[j, i] = f\n",
    "                f_func = sp.lambdify(self.vars, f, 'mpmath')\n",
    "                fab_numpy[i, j, :] = f_func(**var_values) \n",
    "                fab_numpy[j, i, :] = fab_numpy[i, j, :]\n",
    "                #print(f_func(**var_values))\n",
    "\n",
    "        if numpify:\n",
    "            self.fisher = fab_numpy\n",
    "            self.fisher_numpy = fab_numpy\n",
    "        else:\n",
    "            self.fisher = fab\n",
    "            print('TRY INVERSE METHOD')\n",
    "            temporary_matrix = sp.Matrix(N, N, lambda i, j: sp.symbols('A_'+str(i)+str(j)) if i <= j else sp.symbols('A_'+str(j)+str(i))) \n",
    "            inverse_matrix = temporary_matrix.inv()\n",
    "            inverse_matrix = sp.simplify(inverse_matrix)\n",
    "            #print(temporary_matrix*inverse_matrix)\n",
    "            \n",
    "            dic_subs = {}\n",
    "            temp_list = []\n",
    "            method = ['mpmath']\n",
    "  \n",
    "            #for k, v in var_values.items():\n",
    "            #    try:\n",
    "            #        var_values[k] = mpmath.mpf(v[0])\n",
    "            #    except:\n",
    "            #        var_values[k] = mpmath.mpf(v)\n",
    "\n",
    "            \n",
    "            for i in range(N):\n",
    "                for j in range(i, N):\n",
    "                    dic_subs['A_'+str(i)+str(j)] = sp.lambdify(self.vars, fab[i, j], method)(**var_values)\n",
    "                    temp_list += ['A_'+str(i)+str(j)]\n",
    "                    #dic_subs['A_'+str(i)+str(j)] = i+j**i\n",
    "                 \n",
    "            #print(dic_subs)\n",
    "                  \n",
    "            #CC = sp.lambdify(temp_list, inverse_matrix, method)(**dic_subs)\n",
    "            #BB = sp.lambdify(temp_list, temporary_matrix, method)(**dic_subs)\n",
    "            #print('COND NUMBER', np.linalg.cond(BB))\n",
    "            #print(CC@BB)            \n",
    " \n",
    "            #fab = sp.simplify(fab)\n",
    "\n",
    "            lam_matrix = sp.lambdify(self.vars, fab, method) \n",
    "            lam_inverse_matrix = sp.lambdify(temp_list, inverse_matrix, method)\n",
    "        \n",
    "            for i in range(0, 40):\n",
    "                temp_dic = {}\n",
    "                for k, v in var_values.items():\n",
    "                    try:\n",
    "                        temp_dic[k] = mpmath.mpf(v[i])\n",
    "                    except:\n",
    "                        temp_dic[k] = mpmath.mpf((v))\n",
    "                                                 \n",
    "                self.temp_dic = temp_dic                   \n",
    "                mm = mp.matrix(lam_matrix(**temp_dic))\n",
    "                self.mm = mm\n",
    "                M = mp.matrix([[ 0.70703981752702636671563712402972636822781109627394841275697484475256803903410038774909738938354145,    41.9055738162316153162206809246458129870485238000350757863642185768512453129982563359080722731156734,    0.019885688789785972135604143089365051604250756324955521742255489088261251341947391917438229263613685],\n",
    "[ 41.9055738162316153162206809246458129870485238000350757863642185768512453129982563359080722731156734,    3613.95432532609204016798140914311480065250550532680211603211295454559026227494021140097913547733836,   0.0947153309829369858706686818443934515110130185805377348977982760050969353236443007609450630797151474],\n",
    "[0.019885688789785972135604143089365051604250756324955521742255489088261251341947391917438229263613685,  0.0947153309829369858706686818443934515110130185805377348977982760050969353236443007609450630797151474,  0.00159872188132522291226768974925087569347544958392950112608418955866592329341287811869716121751960172]])\n",
    "                \n",
    "                print(mm*(1/M))\n",
    "                print(M)\n",
    "                \n",
    "                temp_dic = {}\n",
    "                for k, v in dic_subs.items():\n",
    "                    try:\n",
    "                        temp_dic[k] = v[i]\n",
    "                    except:\n",
    "                        temp_dic[k] = v\n",
    "                #print(mp.det(mm))\n",
    "                #m = mp.matrix(lam_inverse_matrix(**temp_dic))\n",
    "                print(mm)\n",
    "                m = mp.inverse(mm)\n",
    "                #print(m*mm-mp.eye(4))\n",
    "                temp = mm*m\n",
    "                oo = np.array(temp.tolist()).astype(float)\n",
    "                print(np.max(abs(oo-np.eye(len(self.fisher_list)))))\n",
    "                \n",
    "            self.lam_matrix = lam_matrix\n",
    "            self.lam_inverse_matrix = lam_inverse_matrix\n",
    "        \n",
    "            inverse_matrix.subs(dic_subs)\n",
    "            \n",
    "            def func(varss):\n",
    "                n = len(var_values.keys())\n",
    "                np_sin = np.frompyfunc(lam_matrix, n, 1)\n",
    "                output = np_sin(varss)\n",
    "                return output\n",
    "            \n",
    "            #import inspect\n",
    "            #print(inspect.getargspec(lam_inverse_matrix)[0])\n",
    "            #print(inspect.getargspec(func)[0])\n",
    "\n",
    "            #print(dic_subs)\n",
    "            #func(dic_subs)\n",
    "            \n",
    "            print(lam_matrix(**var_values)[:, :, 0])\n",
    "            \n",
    "            m = lam_matrix(**var_values)[:, :, 0]\n",
    "            \n",
    "            m = mp.matrix(m)\n",
    "            print(m*m**-1)\n",
    "            \n",
    "            mm = lam_inverse_matrix(**dic_subs)[:, :, 0]\n",
    "            \n",
    "            print(mm*m)\n",
    "            print(m*m**-1)\n",
    "            \n",
    "            #print(dic_subs)\n",
    "            #print(inverse_matrix)\n",
    "            nn = lam_matrix(**var_values)[:, :, 0]\n",
    "            print('COND NUMBER', np.linalg.cond(nn))\n",
    "            print(mm)\n",
    "            print(np.linalg.inv(nn))\n",
    "            print('SHAPE', mm.shape)\n",
    "            print(mm@nn)\n",
    "            print(nn@np.linalg.inv(nn))\n",
    "            for i in range(40):\n",
    "                print(mm[:, :, i])\n",
    "            #for self.cov_matrix.shape[-1]:\n",
    "            \n",
    "            self.fisher_numpy = fab_numpy \n",
    "            \n",
    "\n",
    "    def get_error(self, variable, marginalized = False, integrated = False, kmin = 0.005, kmax = 0.05, volume = 100):\n",
    "                \n",
    "        volume *= 10**9\n",
    "\n",
    "        error = self.get_non_marginalized_error_per_mode(variable)            \n",
    "\n",
    "        K = self.K.copy()\n",
    "\n",
    "        if integrated:\n",
    "\n",
    "            Ks = np.arange(kmin, kmax, 0.001)\n",
    "\n",
    "            shape = self.fisher_numpy.shape\n",
    "            f_int = np.zeros((shape[0], shape[1], len(Ks)))\n",
    "            cov_int_marg = f_int.copy()\n",
    "            lista = self.fisher_list\n",
    "            combs = list(itertools.combinations_with_replacement(list(lista), 2))\n",
    "\n",
    "            for a, b in combs:\n",
    "                i, j = lista.index(a), lista.index(b)\n",
    "                f = self.fisher_numpy[i, j, :]\n",
    "\n",
    "                IntegratedFish = np.array([])\n",
    "\n",
    "                for Kmin in Ks:\n",
    "                    error = self.getIntregratedFisher(K, f, Kmin, kmax, volume)\n",
    "                    IntegratedFish = np.append(IntegratedFish, error)\n",
    "            \n",
    "                f_int[i, j, :] = IntegratedFish\n",
    "                f_int[j, i, :] = f_int[i, j, :]\n",
    "            for i in range(f_int.shape[-1]):\n",
    "                matrix = f_int[..., i]\n",
    "                cov_int_marg[..., i] = np.linalg.inv(matrix)\n",
    "            \n",
    "\n",
    "            ind1, ind2 = lista.index(variable), lista.index(variable)\n",
    "            \n",
    "            if not marginalized:\n",
    "                error = f_int[ind1, ind2, :]**-0.5\n",
    "            else:\n",
    "                error = cov_int_marg[ind1, ind2, :]**0.5 \n",
    " \n",
    "\n",
    "            K = Ks\n",
    "            #error = error**-0.5\n",
    "\n",
    "        return K, error\n",
    "   \n",
    "    def get_non_marginalized_error_per_mode(self, variable):\n",
    "        lista = self.fisher_list\n",
    "        i, j = lista.index(variable), lista.index(variable) \n",
    "        error = (self.fisher_numpy[i, j])**-0.5\n",
    "        return error       \n",
    "\n",
    "    ###NOTE!\n",
    "    ###REWRITE ROUTINE IN CLEANER WAY, CHECK POS DEF OF INTEGRATED FISHER, AND PER MODE WHAT HAPPENS\n",
    "    def get_marginalized_error_per_mode(self, variable):\n",
    "        lista = self.fisher_list\n",
    "        \n",
    "        inverse_fisher_numpy = self.fisher_numpy.copy()\n",
    "\n",
    "        def is_pos_def(x):\n",
    "            return np.all(np.linalg.eigvals(x) > 0)\n",
    "\n",
    "        import mpmath\n",
    "        mpmath.mp.prec = precision\n",
    "\n",
    "        import scipy\n",
    "\n",
    "        def scipy_inverse(m):\n",
    "            U, S, V = scipy.linalg.svd(m)\n",
    "            S = np.diag(S)\n",
    "            Uinv, Sinv, Vinv = scipy.linalg.inv(U), scipy.linalg.inv(S), scipy.linalg.inv(V)\n",
    "            invm = Vinv@Sinv@Uinv\n",
    "            return invm\n",
    "\n",
    "        for i in range(self.fisher_numpy.shape[-1]):\n",
    "            matrix = self.fisher_numpy[..., i]\n",
    "            #print(matrix)\n",
    "            #print(is_pos_def(matrix))\n",
    "            m = mpmath.matrix(matrix)\n",
    "            print('Matrix', m)\n",
    "            print(mpmath.det(m))\n",
    "            print(max(m*m**-1))\n",
    "            \n",
    "            matrix_inv = scipy_inverse(matrix)#np.linalg.inv(matrix) \n",
    "            identity = np.ones(matrix_inv.shape)\n",
    "            print(matrix.dtype)\n",
    "            matrix = matrix.astype(np.longdouble)\n",
    "            print(matrix.dtype)\n",
    "            #print(matrix)\n",
    "            #print(matrix_inv@matrix)\n",
    "            #print(np.max(abs(matrix_inv@matrix-identity)))\n",
    "            print('Determinant', scipy.linalg.det(matrix))\n",
    "            print(matrix@scipy.linalg.inv(matrix))\n",
    "            inverse_fisher_numpy[..., i] = matrix_inv\n",
    "  \n",
    "        i, j = lista.index(variable), lista.index(variable)         \n",
    "        error = (self.inverse_fisher_numpy[i, j])**-0.5\n",
    "        return error \n",
    "\n",
    "\n",
    "    def get_integrated_error(self, fisher_vec, kmin = 0.005, kmax = 0.05, volume = 100):\n",
    "        result = self.getIntregratedFisher(self.K, fisher_vec, kmin, kmax, volume)     \n",
    "        return result\n",
    "\n",
    "    def getIntregratedFisher(self, K, FisherPerMode, kmin, kmax, V):\n",
    "        if (kmin<np.min(K)) or (kmax>np.max(K)):\n",
    "            print('Kmin(Kmax) should be higher(lower) than the minimum(maximum) of the K avaliable!')\n",
    "            return 0\n",
    "        else:\n",
    "            function = scipy.interpolate.interp1d(K, FisherPerMode)\n",
    "            result = scipy.integrate.quad(lambda x: function(x)*x**2., kmin, kmax)\n",
    "            result = result[0]*V/(2.*np.pi**2.)\n",
    "            return result\n",
    "\n",
    "    def plot_forecast(self, variable, error_versions, kmin = 0.005, kmax = 0.05, volume = 100, title = 'Error', xlabel = '$K$ $(h Mpc^{-1})$', ylabel = '\\sigma', xscale = 'linear', yscale = 'log', output_name = ''):\n",
    "        fig, ax = plt.subplots(nrows = 1, ncols = 1)\n",
    "        plt.title(title)\n",
    "        plt.xlabel(xlabel)\n",
    "        plt.ylabel(ylabel)\n",
    "        plt.xscale(xscale)\n",
    "        plt.yscale(yscale)\n",
    "        for label, value in error_versions.items():\n",
    "            K, error = self.get_error(variable, value['marginalized'], value['integrated'], kmin, kmax, volume) \n",
    "            label = ''\n",
    "            for l, v in value.items():\n",
    "                if v:\n",
    "                    label += l+' '\n",
    "            plt.plot(K, error, label = label, lw = 2)\n",
    "        ax.legend(loc = 'best', prop = {'size': 6})\n",
    "        fig.savefig(output_name, dpi = 300)\n",
    "        plt.close(fig)\n",
    "\n",
    "        \n",
    "def fakeinv(A, epsilon=1.0):\n",
    "    Q,R = np.linalg.qr(A)\n",
    "    S = np.linalg.pinv(R)\n",
    "    #if abs(A.shape[0] - np.dot(np.diag(S), np.diag(R))) > epsilon:\n",
    "    #    return np.zeros(A.shape)\n",
    "    return np.dot(S,Q.T)"
   ]
  },
  {
   "cell_type": "code",
   "execution_count": 122,
   "metadata": {},
   "outputs": [],
   "source": [
    "import yaml\n",
    "\n",
    "import pickle\n",
    "\n",
    "import sys\n",
    "\n",
    "import sympy as sp\n",
    "\n",
    "import numpy as np\n",
    "\n",
    "import itertools"
   ]
  },
  {
   "cell_type": "code",
   "execution_count": 123,
   "metadata": {},
   "outputs": [],
   "source": [
    "values_file = 'configurationfiles/01022020.yaml'"
   ]
  },
  {
   "cell_type": "code",
   "execution_count": 133,
   "metadata": {},
   "outputs": [],
   "source": [
    "with open(values_file, 'r') as stream:\n",
    "    data = yaml.safe_load(stream)\n",
    "\n",
    "values = data\n",
    "\n",
    "\n",
    "direc = values['name']\n",
    "base_dir = values['file_config']['base_dir']\n",
    "data_dir = values['file_config']['data_dir']\n",
    "pics_dir = values['file_config']['pics_dir']\n",
    "dic_name = values['file_config']['dic_name']\n",
    "\n",
    "direc = base_dir+direc+'/'\n",
    "\n",
    "with open(direc+data_dir+dic_name, 'rb') as handle:\n",
    "    dic = pickle.load(handle, encoding = 'latin1')\n",
    "\n",
    "\n",
    "config = values['forecast_config']\n",
    "\n",
    "variables_list= config['variables_list']\n",
    "variables_list_fisher = config['variables_list_fisher']\n",
    "cov_dict = config['cov_dict']\n",
    "\n",
    "variables_of_interest = config['variables_of_interest']\n",
    "\n",
    "analysis_config = values['analysis_config']\n",
    "biases_definitions = analysis_config['biases_definitions']\n",
    "noise_prefix = analysis_config['noise_prefix']\n",
    "new_bias_expr = analysis_config['new_bias_expr']\n",
    "\n",
    "pics_config = config['pics_config']\n",
    "for key, val in pics_config.items():\n",
    "    exec(key + '=val')\n",
    "       \n",
    "terms = biases_definitions.keys()\n",
    "combs = list(itertools.combinations_with_replacement(list(terms), 2))\n",
    "\n",
    "Noisedic = {}\n",
    "\n",
    "#LOAD VARIABLES VALUES\n",
    "for a, b in combs:\n",
    "    Noisedic[noise_prefix+a+b] = dic[noise_prefix+a+b]\n",
    "    Noisedic[noise_prefix+b+a] = dic[noise_prefix+a+b]\n",
    "\n",
    "K = dic['K']\n",
    "\n",
    "var_values = {}\n",
    "\n",
    "import mpmath as mp\n",
    "mpmath.mp.prec = precision\n",
    "\n",
    "for vv in variables_list:\n",
    "    var_values[vv] = dic[vv]\n",
    "\n",
    "###### FORECAST ######\n",
    "\n",
    "forecast = Forecaster(K, *variables_list)\n",
    "\n",
    "#NOTE#maybe just use ns of forecast\n",
    "\n",
    "'''\n",
    "#Here define basic variables, converting them to sympy variables\n",
    "for v in variables_list:\n",
    "     exec(v+'=0')\n",
    "     globals()[v] = sp.symbols(v)\n",
    "     ns[v] = globals()[v]\n",
    "'''    \n",
    "\n",
    "#here take biases definitions and convert them to sympy\n",
    "for x in terms:\n",
    "    exec(x+'=0')\n",
    "    globals()[x] = sp.sympify(biases_definitions[x], locals = forecast.ns)\n",
    "    forecast.ns[x] = globals()[x]\n",
    "   \n",
    "\n",
    "#for y in terms:\n",
    "#    print(y)\n",
    "#    print(globals()[y])     \n",
    "\n",
    "#define noise variables\n",
    "for x, y in combs:\n",
    "    exec(noise_prefix+x+y+'=0')\n",
    "    globals()[noise_prefix+x+y] = sp.symbols(noise_prefix+x+y)\n",
    "    exec(noise_prefix+y+x+'=0')\n",
    "    globals()[noise_prefix+y+x] = sp.symbols(noise_prefix+y+x)     \n",
    "    \n",
    "    forecast.ns[noise_prefix+x+y] = globals()[noise_prefix+x+y]\n",
    "    forecast.ns[noise_prefix+y+x] = globals()[noise_prefix+y+x] \n",
    "\n",
    "    #forecast.vars += [globals()[noise_prefix+x+y]]\n",
    "    #if x != y:\n",
    "    #    forecast.vars += [globals()[noise_prefix+y+x]]\n",
    "\n",
    "numpify =  True\n",
    "\n",
    "#forecast = forecasting.Forecaster(*variables_list)\n",
    "\n",
    "#here take new bias of the reconstructed field\n",
    "forecast.new_bias = sp.sympify(new_bias_expr, locals = forecast.ns)\n",
    "forecast.ns['new_bias'] = sp.sympify(new_bias_expr, locals = forecast.ns)\n",
    "\n",
    "#var_values['new_bias'] = \n",
    "\n",
    "forecast.add_cov_matrix(cov_dict)\n",
    "forecast.plot_cov(var_values, legend = legend_cov, title = title_cov, xlabel = xlabel_cov, ylabel = ylabel_cov, output_name = direc+pics_dir+output_name_cov+'.png')"
   ]
  },
  {
   "cell_type": "code",
   "execution_count": 134,
   "metadata": {},
   "outputs": [
    {
     "data": {
      "text/plain": [
       "array([mpf('1.0'), mpf('1.0')], dtype=object)"
      ]
     },
     "execution_count": 134,
     "metadata": {},
     "output_type": "execute_result"
    }
   ],
   "source": [
    "log_array = np.frompyfunc(mp.power, 2, 1)\n",
    "log_array(np.array([0, 1]), np.array([0, 1]))"
   ]
  },
  {
   "cell_type": "code",
   "execution_count": 135,
   "metadata": {},
   "outputs": [],
   "source": [
    "#for k, v in var_values.items():\n",
    "#    var_values[k] = mpmath.mpf(1)*v"
   ]
  },
  {
   "cell_type": "code",
   "execution_count": 136,
   "metadata": {
    "scrolled": false
   },
   "outputs": [
    {
     "name": "stdout",
     "output_type": "stream",
     "text": [
      "Using parameters list: ['b10', 'fnl', 'b20', 'bs2']\n",
      "Calculating fisher matrix\n"
     ]
    }
   ],
   "source": [
    "numpify = True\n",
    "forecast.get_fisher_matrix(variables_list_fisher, numpify = numpify, var_values = var_values)"
   ]
  },
  {
   "cell_type": "code",
   "execution_count": 137,
   "metadata": {},
   "outputs": [
    {
     "data": {
      "text/plain": [
       "(4, 4, 39)"
      ]
     },
     "execution_count": 137,
     "metadata": {},
     "output_type": "execute_result"
    }
   ],
   "source": [
    "forecast.fisher_numpy.shape"
   ]
  },
  {
   "cell_type": "code",
   "execution_count": 138,
   "metadata": {},
   "outputs": [
    {
     "data": {
      "text/plain": [
       "array([0.001, 0.002, 0.003, 0.004, 0.005, 0.006, 0.007, 0.008, 0.009,\n",
       "       0.01 , 0.011, 0.012, 0.013, 0.014, 0.015, 0.016, 0.017, 0.018,\n",
       "       0.019, 0.02 , 0.021, 0.022, 0.023, 0.024, 0.025, 0.026, 0.027,\n",
       "       0.028, 0.029, 0.03 , 0.031, 0.032, 0.033, 0.034, 0.035, 0.036,\n",
       "       0.037, 0.038, 0.039])"
      ]
     },
     "execution_count": 138,
     "metadata": {},
     "output_type": "execute_result"
    }
   ],
   "source": [
    "K"
   ]
  },
  {
   "cell_type": "code",
   "execution_count": 139,
   "metadata": {},
   "outputs": [],
   "source": [
    "K, err = forecast.get_error(variables_of_interest[0], True, True, K.min(), K.max())"
   ]
  },
  {
   "cell_type": "code",
   "execution_count": 140,
   "metadata": {},
   "outputs": [
    {
     "data": {
      "text/plain": [
       "[<matplotlib.lines.Line2D at 0x12dad2510>]"
      ]
     },
     "execution_count": 140,
     "metadata": {},
     "output_type": "execute_result"
    },
    {
     "data": {
      "image/png": "[encoded data removed]",
      "text/plain": [
       "<Figure size 432x288 with 1 Axes>"
      ]
     },
     "metadata": {
      "needs_background": "light"
     },
     "output_type": "display_data"
    }
   ],
   "source": [
    "plt.yscale('log')\n",
    "plt.plot(K, err)"
   ]
  },
  {
   "cell_type": "code",
   "execution_count": null,
   "metadata": {},
   "outputs": [],
   "source": [
    "N = 2\n",
    "temporary_matrix = sp.Matrix(N, N, lambda i, j: sp.symbols('A_'+str(i)+str(j)) if i <= j else sp.symbols('A_'+str(j)+str(i)))"
   ]
  },
  {
   "cell_type": "code",
   "execution_count": null,
   "metadata": {
    "scrolled": true
   },
   "outputs": [],
   "source": [
    "temporary_matrix"
   ]
  },
  {
   "cell_type": "code",
   "execution_count": null,
   "metadata": {},
   "outputs": [],
   "source": [
    "a = 1"
   ]
  },
  {
   "cell_type": "code",
   "execution_count": null,
   "metadata": {},
   "outputs": [],
   "source": [
    "dic = {'A_00': a, 'A_01': a, 'A_11': 2}\n",
    "t = temporary_matrix.subs(dic)"
   ]
  },
  {
   "cell_type": "code",
   "execution_count": null,
   "metadata": {},
   "outputs": [],
   "source": [
    "t"
   ]
  },
  {
   "cell_type": "code",
   "execution_count": null,
   "metadata": {},
   "outputs": [],
   "source": [
    "t.inv()*t"
   ]
  },
  {
   "cell_type": "code",
   "execution_count": null,
   "metadata": {},
   "outputs": [],
   "source": [
    "method = 'mpmath'\n",
    "lam = sp.lambdify(temp_list, inverse_matrix, method)\n",
    "lam()"
   ]
  },
  {
   "cell_type": "code",
   "execution_count": null,
   "metadata": {},
   "outputs": [],
   "source": [
    "a = 1\n",
    "b = 0\n",
    "dic = {'A_00': 8, 'A_01': 7, 'A_11': a, 'A_22': a, 'A_33': 7, 'A_13': b, 'A_12': b, 'A_23': a, 'A_03': b, 'A_02': a}"
   ]
  },
  {
   "cell_type": "code",
   "execution_count": 408,
   "metadata": {
    "scrolled": true
   },
   "outputs": [],
   "source": [
    "oo = forecast.lam_inverse_matrix(**dic)"
   ]
  },
  {
   "cell_type": "code",
   "execution_count": 413,
   "metadata": {},
   "outputs": [
    {
     "data": {
      "text/plain": [
       "array([[-0.02371542,  0.16600791,  0.02766798, -0.00395257],\n",
       "       [ 0.16600791, -0.16205534, -0.19367589,  0.02766798],\n",
       "       [ 0.02766798, -0.19367589,  1.13438735, -0.16205534],\n",
       "       [-0.00395257,  0.02766798, -0.16205534,  0.16600791]])"
      ]
     },
     "execution_count": 413,
     "metadata": {},
     "output_type": "execute_result"
    }
   ],
   "source": [
    "np.array(oo.tolist()).astype(float)"
   ]
  },
  {
   "cell_type": "code",
   "execution_count": 354,
   "metadata": {},
   "outputs": [],
   "source": [
    "mpmath.mp.prec = 100"
   ]
  },
  {
   "cell_type": "code",
   "execution_count": 455,
   "metadata": {},
   "outputs": [
    {
     "data": {
      "text/plain": [
       "mpf('0.0000000000000000552366670587181089465842392271234569332452593881442801576896756767551609552837606476927821309202077101406958739232518859253354881231084773470636869153746')"
      ]
     },
     "execution_count": 455,
     "metadata": {},
     "output_type": "execute_result"
    }
   ],
   "source": [
    "1 + mpmath.erf(-5.922)"
   ]
  },
  {
   "cell_type": "code",
   "execution_count": 555,
   "metadata": {},
   "outputs": [],
   "source": [
    "N = 4\n",
    "temporary_matrix = sp.Matrix(N, N, lambda i, j: sp.symbols('A_'+str(i)+str(j)) if i <= j else sp.symbols('A_'+str(j)+str(i))) \n",
    "inverse_matrix = temporary_matrix.inv()"
   ]
  },
  {
   "cell_type": "code",
   "execution_count": 557,
   "metadata": {},
   "outputs": [
    {
     "data": {
      "text/latex": [
       "$\\displaystyle \\left[\\begin{matrix}1 & 0 & 0 & 0\\\\0 & 1 & 0 & 0\\\\0 & 0 & 1 & 0\\\\0 & 0 & 0 & 1\\end{matrix}\\right]$"
      ],
      "text/plain": [
       "Matrix([\n",
       "[1, 0, 0, 0],\n",
       "[0, 1, 0, 0],\n",
       "[0, 0, 1, 0],\n",
       "[0, 0, 0, 1]])"
      ]
     },
     "execution_count": 557,
     "metadata": {},
     "output_type": "execute_result"
    }
   ],
   "source": [
    "ex = temporary_matrix*inverse_matrix\n",
    "sp.simplify(ex)"
   ]
  },
  {
   "cell_type": "code",
   "execution_count": 10,
   "metadata": {},
   "outputs": [],
   "source": [
    "M = mp.matrix([[ 0.70703981752702636671563712402972636822781109627394841275697484475256803903410038774909738938354145,    41.9055738162316153162206809246458129870485238000350757863642185768512453129982563359080722731156734,    0.019885688789785972135604143089365051604250756324955521742255489088261251341947391917438229263613685],\n",
    "[ 41.9055738162316153162206809246458129870485238000350757863642185768512453129982563359080722731156734,    3613.95432532609204016798140914311480065250550532680211603211295454559026227494021140097913547733836,   0.0947153309829369858706686818443934515110130185805377348977982760050969353236443007609450630797151474],\n",
    "[0.019885688789785972135604143089365051604250756324955521742255489088261251341947391917438229263613685,  0.0947153309829369858706686818443934515110130185805377348977982760050969353236443007609450630797151474,  0.00159872188132522291226768974925087569347544958392950112608418955866592329341287811869716121751960172]])"
   ]
  },
  {
   "cell_type": "code",
   "execution_count": 11,
   "metadata": {},
   "outputs": [
    {
     "data": {
      "text/plain": [
       "matrix(\n",
       "[['0.999999999999999999999999999999999999999999999999999999999999999999999999999999999999997532261251015', '5.73621625612713984585058879379198389343571129068396798576201913834121444620091399579568103939095222e-89', '4.36076863644266341810376631165151621026717402217734482637387552061784975757866545140203616881479155e-86'],\n",
       " ['-2.03090549206483023959997268356048166940280547636168945185087339652637493403360380718834452371200081e-86', '1.0000000000000000000000000000000000000000000000000000000000000000000000000000000000000010518235823', '6.0377737853781848853945928346958431556341375393851678914420172639532318892995425697646046562972654e-85'],\n",
       " ['9.33883313643689902988090350508286503038725993282369519212452408598779181809036033642927968661351301e-89', '6.64226992793768598620655232336904102394763959965158485430515030883641918684522780076659795493723525e-91', '0.999999999999999999999999999999999999999999999999999999999999999999999999999999999999999788366083506']])"
      ]
     },
     "execution_count": 11,
     "metadata": {},
     "output_type": "execute_result"
    }
   ],
   "source": [
    "M*mp.inverse(M)"
   ]
  },
  {
   "cell_type": "code",
   "execution_count": 72,
   "metadata": {},
   "outputs": [
    {
     "data": {
      "text/plain": [
       "matrix(\n",
       "[['0.70703981752702636671563712402972636822781109627394841275697484475256803903410038774909738938354145', '41.9055738162316153162206809246458129870485238000350757863642185768512453129982563359080722731156734', '0.019885688789785972135604143089365051604250756324955521742255489088261251341947391917438229263613685'],\n",
       " ['41.9055738162316153162206809246458129870485238000350757863642185768512453129982563359080722731156734', '3613.95432532609204016798140914311480065250550532680211603211295454559026227494021140097913547733836', '0.0947153309829369858706686818443934515110130185805377348977982760050969353236443007609450630797151474'],\n",
       " ['0.019885688789785972135604143089365051604250756324955521742255489088261251341947391917438229263613685', '0.0947153309829369858706686818443934515110130185805377348977982760050969353236443007609450630797151474', '0.00159872188132522291226768974925087569347544958392950112608418955866592329341287811869716121751960172']])"
      ]
     },
     "execution_count": 72,
     "metadata": {},
     "output_type": "execute_result"
    }
   ],
   "source": [
    "forecast.mm"
   ]
  },
  {
   "cell_type": "code",
   "execution_count": null,
   "metadata": {},
   "outputs": [],
   "source": [
    "[['0.70703981752702636671563712402972636822781109627394841275697484475256803903410038774909738938354145', '41.9055738162316153162206809246458129870485238000350757863642185768512453129982563359080722731156734', '0.019885688789785972135604143089365051604250756324955521742255489088261251341947391917438229263613685'],\n",
    " ['41.9055738162316153162206809246458129870485238000350757863642185768512453129982563359080722731156734', '3613.95432532609204016798140914311480065250550532680211603211295454559026227494021140097913547733836', '0.0947153309829369858706686818443934515110130185805377348977982760050969353236443007609450630797151474'],\n",
    " ['0.019885688789785972135604143089365051604250756324955521742255489088261251341947391917438229263613685', '0.0947153309829369858706686818443934515110130185805377348977982760050969353236443007609450630797151474', '0.00159872188132522291226768974925087569347544958392950112608418955866592329341287811869716121751960172']]"
   ]
  },
  {
   "cell_type": "code",
   "execution_count": 71,
   "metadata": {},
   "outputs": [
    {
     "data": {
      "text/plain": [
       "matrix(\n",
       "[['0.999096651942198465067353357515946905162476900215742658364970162632711084874016587832128460685744954', '-0.0344363778618494582376512315871287523078245507768304617128677349845209504096255684529497757362237774', '-0.0000261733923254407128699987041729803021858555499737691116856732427706698603838206527630772091725093'],\n",
       " ['0.00000750457536027292421633491889753330106131843888043225873125757107715687569762564436880766190919907568', '1.00036240263009310285710623646968024364681326029661287633249272546251075055962364448206868559156045', '0.0000000919417057503570697425582774627778026866577525350911799598618508703152401369032495931282297085788124'],\n",
       " ['0.00764806490183428583789616618422096388747625209743199166265581172236305358352252345367057546651799008', '0.258407001509085162498920668445069101538621881692821901404049695187447573037078941057423745843498085', '1.00019538832470305347323814642979165836982626554779812297170091168753639240406701096140393897437247']])"
      ]
     },
     "execution_count": 71,
     "metadata": {},
     "output_type": "execute_result"
    }
   ],
   "source": [
    "mp.mp.prec = 333\n",
    "mp.inverse(forecast.mm)*forecast.mm"
   ]
  },
  {
   "cell_type": "code",
   "execution_count": 13,
   "metadata": {},
   "outputs": [
    {
     "name": "stdout",
     "output_type": "stream",
     "text": [
      "[[mpf('0.70703981752702638186036665501887910068035125732421875')\n",
      "  mpf('41.90557381623161603556582122109830379486083984375')\n",
      "  mpf('0.019885688789785971319901136666885577142238616943359375')]\n",
      " [mpf('41.90557381623161603556582122109830379486083984375')\n",
      "  mpf('3613.95432532609220288577489554882049560546875')\n",
      "  mpf('0.09471533098293698216263436506778816692531108856201171875')]\n",
      " [mpf('0.019885688789785971319901136666885577142238616943359375')\n",
      "  mpf('0.09471533098293698216263436506778816692531108856201171875')\n",
      "  mpf('0.001598721881325222866909729901863101986236870288848876953125')]]\n"
     ]
    },
    {
     "ename": "NameError",
     "evalue": "name 'getMatrixInverse' is not defined",
     "output_type": "error",
     "traceback": [
      "\u001b[0;31m---------------------------------------------------------------------------\u001b[0m",
      "\u001b[0;31mNameError\u001b[0m                                 Traceback (most recent call last)",
      "\u001b[0;32m<ipython-input-13-8519dc093ab8>\u001b[0m in \u001b[0;36m<module>\u001b[0;34m\u001b[0m\n\u001b[1;32m      4\u001b[0m \u001b[0mMM\u001b[0m \u001b[0;34m=\u001b[0m \u001b[0mnp\u001b[0m\u001b[0;34m.\u001b[0m\u001b[0marray\u001b[0m\u001b[0;34m(\u001b[0m\u001b[0mL\u001b[0m\u001b[0;34m)\u001b[0m\u001b[0;34m\u001b[0m\u001b[0;34m\u001b[0m\u001b[0m\n\u001b[1;32m      5\u001b[0m \u001b[0mprint\u001b[0m\u001b[0;34m(\u001b[0m\u001b[0mMM\u001b[0m\u001b[0;34m)\u001b[0m\u001b[0;34m\u001b[0m\u001b[0;34m\u001b[0m\u001b[0m\n\u001b[0;32m----> 6\u001b[0;31m \u001b[0mgetMatrixInverse\u001b[0m\u001b[0;34m(\u001b[0m\u001b[0mMM\u001b[0m\u001b[0;34m)\u001b[0m\u001b[0;34m\u001b[0m\u001b[0;34m\u001b[0m\u001b[0m\n\u001b[0m",
      "\u001b[0;31mNameError\u001b[0m: name 'getMatrixInverse' is not defined"
     ]
    }
   ],
   "source": [
    "L = M.tolist()\n",
    "for i in range(len(L)):\n",
    "    L[i] = np.array(L[i])\n",
    "MM = np.array(L)\n",
    "print(MM)\n",
    "getMatrixInverse(MM)"
   ]
  },
  {
   "cell_type": "code",
   "execution_count": 14,
   "metadata": {},
   "outputs": [],
   "source": [
    "import numpy as np\n",
    "from scipy import linalg as sla\n",
    "from scipy import linalg as nla\n",
    "import numba\n",
    "\n",
    "def gen_ex(d0):\n",
    "  x = np.random.randn(d0,d0)\n",
    "  return x.T + x\n",
    "\n",
    "@numba.jit\n",
    "def inv_nla_jit(A):\n",
    "  return np.linalg.inv(A)\n",
    "\n",
    "@numba.jit\n",
    "def inv_sla_jit(A):\n",
    "  return sla.inv(A)"
   ]
  },
  {
   "cell_type": "code",
   "execution_count": 21,
   "metadata": {},
   "outputs": [
    {
     "data": {
      "text/plain": [
       "array([[mpf('-2.0'), mpf('-144.0'), mpf('-0.125')],\n",
       "       [mpf('0.015625'), mpf('0.5625'), mpf('0.0')],\n",
       "       [mpf('32.0'), mpf('-192.0'), mpf('2.0')]], dtype=object)"
      ]
     },
     "execution_count": 21,
     "metadata": {},
     "output_type": "execute_result"
    }
   ],
   "source": [
    "A = np.array(forecast.mm.tolist())\n",
    "inv_nla_jit(A.astype(float))@A"
   ]
  },
  {
   "cell_type": "code",
   "execution_count": 15,
   "metadata": {},
   "outputs": [
    {
     "data": {
      "text/plain": [
       "array([[mpf('0.70703981752702638186036665501887910068035125732421875'),\n",
       "        mpf('41.90557381623161603556582122109830379486083984375'),\n",
       "        mpf('0.019885688789785971319901136666885577142238616943359375')],\n",
       "       [mpf('41.90557381623161603556582122109830379486083984375'),\n",
       "        mpf('3613.95432532609220288577489554882049560546875'),\n",
       "        mpf('0.09471533098293698216263436506778816692531108856201171875')],\n",
       "       [mpf('0.019885688789785971319901136666885577142238616943359375'),\n",
       "        mpf('0.09471533098293698216263436506778816692531108856201171875'),\n",
       "        mpf('0.001598721881325222866909729901863101986236870288848876953125')]],\n",
       "      dtype=object)"
      ]
     },
     "execution_count": 15,
     "metadata": {},
     "output_type": "execute_result"
    }
   ],
   "source": [
    "MM"
   ]
  },
  {
   "cell_type": "code",
   "execution_count": 18,
   "metadata": {},
   "outputs": [
    {
     "name": "stdout",
     "output_type": "stream",
     "text": [
      "[0.707039817527026   41.9055738162316    0.019885688789786]\n",
      "[ 41.9055738162316   3613.95432532609    0.094715330982937]\n",
      "[0.019885688789786  0.094715330982937  0.00159872188132522]\n"
     ]
    },
    {
     "ename": "ZeroDivisionError",
     "evalue": "matrix is numerically singular",
     "output_type": "error",
     "traceback": [
      "\u001b[0;31m---------------------------------------------------------------------------\u001b[0m",
      "\u001b[0;31mZeroDivisionError\u001b[0m                         Traceback (most recent call last)",
      "\u001b[0;32m<ipython-input-18-bc0bc6827005>\u001b[0m in \u001b[0;36m<module>\u001b[0;34m\u001b[0m\n\u001b[1;32m      1\u001b[0m \u001b[0mmp\u001b[0m\u001b[0;34m.\u001b[0m\u001b[0mmp\u001b[0m\u001b[0;34m.\u001b[0m\u001b[0mprec\u001b[0m \u001b[0;34m=\u001b[0m \u001b[0;36m53\u001b[0m\u001b[0;34m\u001b[0m\u001b[0;34m\u001b[0m\u001b[0m\n\u001b[1;32m      2\u001b[0m \u001b[0mprint\u001b[0m\u001b[0;34m(\u001b[0m\u001b[0mforecast\u001b[0m\u001b[0;34m.\u001b[0m\u001b[0mmm\u001b[0m\u001b[0;34m)\u001b[0m\u001b[0;34m\u001b[0m\u001b[0;34m\u001b[0m\u001b[0m\n\u001b[0;32m----> 3\u001b[0;31m \u001b[0mmp\u001b[0m\u001b[0;34m.\u001b[0m\u001b[0minverse\u001b[0m\u001b[0;34m(\u001b[0m\u001b[0mforecast\u001b[0m\u001b[0;34m.\u001b[0m\u001b[0mmm\u001b[0m\u001b[0;34m)\u001b[0m\u001b[0;34m\u001b[0m\u001b[0;34m\u001b[0m\u001b[0m\n\u001b[0m",
      "\u001b[0;32m/Library/Frameworks/Python.framework/Versions/3.7/lib/python3.7/site-packages/mpmath/matrices/linalg.py\u001b[0m in \u001b[0;36minverse\u001b[0;34m(ctx, A, **kwargs)\u001b[0m\n\u001b[1;32m    303\u001b[0m             \u001b[0mn\u001b[0m \u001b[0;34m=\u001b[0m \u001b[0mA\u001b[0m\u001b[0;34m.\u001b[0m\u001b[0mrows\u001b[0m\u001b[0;34m\u001b[0m\u001b[0;34m\u001b[0m\u001b[0m\n\u001b[1;32m    304\u001b[0m             \u001b[0;31m# get LU factorisation\u001b[0m\u001b[0;34m\u001b[0m\u001b[0;34m\u001b[0m\u001b[0;34m\u001b[0m\u001b[0m\n\u001b[0;32m--> 305\u001b[0;31m             \u001b[0mA\u001b[0m\u001b[0;34m,\u001b[0m \u001b[0mp\u001b[0m \u001b[0;34m=\u001b[0m \u001b[0mctx\u001b[0m\u001b[0;34m.\u001b[0m\u001b[0mLU_decomp\u001b[0m\u001b[0;34m(\u001b[0m\u001b[0mA\u001b[0m\u001b[0;34m)\u001b[0m\u001b[0;34m\u001b[0m\u001b[0;34m\u001b[0m\u001b[0m\n\u001b[0m\u001b[1;32m    306\u001b[0m             \u001b[0mcols\u001b[0m \u001b[0;34m=\u001b[0m \u001b[0;34m[\u001b[0m\u001b[0;34m]\u001b[0m\u001b[0;34m\u001b[0m\u001b[0;34m\u001b[0m\u001b[0m\n\u001b[1;32m    307\u001b[0m             \u001b[0;31m# calculate unit vectors and solve corresponding system to get columns\u001b[0m\u001b[0;34m\u001b[0m\u001b[0;34m\u001b[0m\u001b[0;34m\u001b[0m\u001b[0m\n",
      "\u001b[0;32m/Library/Frameworks/Python.framework/Versions/3.7/lib/python3.7/site-packages/mpmath/matrices/linalg.py\u001b[0m in \u001b[0;36mLU_decomp\u001b[0;34m(ctx, A, overwrite, use_cache)\u001b[0m\n\u001b[1;32m    150\u001b[0m                     \u001b[0mA\u001b[0m\u001b[0;34m[\u001b[0m\u001b[0mi\u001b[0m\u001b[0;34m,\u001b[0m\u001b[0mk\u001b[0m\u001b[0;34m]\u001b[0m \u001b[0;34m-=\u001b[0m \u001b[0mA\u001b[0m\u001b[0;34m[\u001b[0m\u001b[0mi\u001b[0m\u001b[0;34m,\u001b[0m\u001b[0mj\u001b[0m\u001b[0;34m]\u001b[0m\u001b[0;34m*\u001b[0m\u001b[0mA\u001b[0m\u001b[0;34m[\u001b[0m\u001b[0mj\u001b[0m\u001b[0;34m,\u001b[0m\u001b[0mk\u001b[0m\u001b[0;34m]\u001b[0m\u001b[0;34m\u001b[0m\u001b[0;34m\u001b[0m\u001b[0m\n\u001b[1;32m    151\u001b[0m         \u001b[0;32mif\u001b[0m \u001b[0mctx\u001b[0m\u001b[0;34m.\u001b[0m\u001b[0mabsmin\u001b[0m\u001b[0;34m(\u001b[0m\u001b[0mA\u001b[0m\u001b[0;34m[\u001b[0m\u001b[0mn\u001b[0m \u001b[0;34m-\u001b[0m \u001b[0;36m1\u001b[0m\u001b[0;34m,\u001b[0m\u001b[0mn\u001b[0m \u001b[0;34m-\u001b[0m \u001b[0;36m1\u001b[0m\u001b[0;34m]\u001b[0m\u001b[0;34m)\u001b[0m \u001b[0;34m<=\u001b[0m \u001b[0mtol\u001b[0m\u001b[0;34m:\u001b[0m\u001b[0;34m\u001b[0m\u001b[0;34m\u001b[0m\u001b[0m\n\u001b[0;32m--> 152\u001b[0;31m             \u001b[0;32mraise\u001b[0m \u001b[0mZeroDivisionError\u001b[0m\u001b[0;34m(\u001b[0m\u001b[0;34m'matrix is numerically singular'\u001b[0m\u001b[0;34m)\u001b[0m\u001b[0;34m\u001b[0m\u001b[0;34m\u001b[0m\u001b[0m\n\u001b[0m\u001b[1;32m    153\u001b[0m         \u001b[0;31m# cache decomposition\u001b[0m\u001b[0;34m\u001b[0m\u001b[0;34m\u001b[0m\u001b[0;34m\u001b[0m\u001b[0m\n\u001b[1;32m    154\u001b[0m         \u001b[0;32mif\u001b[0m \u001b[0;32mnot\u001b[0m \u001b[0moverwrite\u001b[0m \u001b[0;32mand\u001b[0m \u001b[0misinstance\u001b[0m\u001b[0;34m(\u001b[0m\u001b[0morig\u001b[0m\u001b[0;34m,\u001b[0m \u001b[0mctx\u001b[0m\u001b[0;34m.\u001b[0m\u001b[0mmatrix\u001b[0m\u001b[0;34m)\u001b[0m\u001b[0;34m:\u001b[0m\u001b[0;34m\u001b[0m\u001b[0;34m\u001b[0m\u001b[0m\n",
      "\u001b[0;31mZeroDivisionError\u001b[0m: matrix is numerically singular"
     ]
    }
   ],
   "source": [
    "mp.mp.prec = 53\n",
    "print(forecast.mm)\n",
    "mp.inverse(forecast.mm)"
   ]
  },
  {
   "cell_type": "code",
   "execution_count": 58,
   "metadata": {},
   "outputs": [],
   "source": [
    "L = [[1, 2, 3], [3, 4, 4], [1, 1, 1]]"
   ]
  },
  {
   "cell_type": "code",
   "execution_count": 64,
   "metadata": {},
   "outputs": [],
   "source": [
    "L = forecast.mm.tolist()"
   ]
  },
  {
   "cell_type": "code",
   "execution_count": 54,
   "metadata": {},
   "outputs": [],
   "source": [
    "A = []\n",
    "for m in L:\n",
    "    temp = []\n",
    "    for c in m:\n",
    "        temp += [float(c)]\n",
    "    A += [temp]"
   ]
  },
  {
   "cell_type": "code",
   "execution_count": 62,
   "metadata": {},
   "outputs": [],
   "source": [
    "def det2(A):\n",
    "    return A[0][0]*A[1][1] - A[0][1]*A[1][0]\n",
    "\n",
    "def inv2(A):\n",
    "    d = det2(A)\n",
    "    return [[A[1][1]/d, -A[0][1]/d], [-A[1][0]/d, A[0][0]/d]]\n",
    "\n",
    "def det3(B):\n",
    "    ret = 0\n",
    "    for i in range(3):\n",
    "        pos = 1\n",
    "        neg = 1\n",
    "        for j in range(3):\n",
    "            pos *= B[j][(i+j) % 3]\n",
    "            neg *= B[j][(i-j) % 3]\n",
    "        ret += (pos - neg)\n",
    "\n",
    "    return ret\n",
    "\n",
    "def inv3(B):\n",
    "    ret = [3*[None] for _i in range(3)]\n",
    "    det = det3(B)\n",
    "    for i in range(3):\n",
    "        for j in range(3):\n",
    "            adj = [[n for ii, n in enumerate(row) if ii != i] \n",
    "                      for jj, row in enumerate(B) if jj != j]\n",
    "            d = det2(adj)\n",
    "            sgn = (-1)**(i+j)\n",
    "            ret[i][j] = sgn * d / det\n",
    "    return ret"
   ]
  },
  {
   "cell_type": "code",
   "execution_count": 67,
   "metadata": {},
   "outputs": [
    {
     "data": {
      "text/plain": [
       "array([[mpf('1.0'), mpf('96.0'), mpf('0.0625')],\n",
       "       [mpf('-0.015625'), mpf('-1.0625'), mpf('0.0')],\n",
       "       [mpf('24.0'), mpf('1664.0'), mpf('1.0')]], dtype=object)"
      ]
     },
     "execution_count": 67,
     "metadata": {},
     "output_type": "execute_result"
    }
   ],
   "source": [
    "np.array(inv3(L))@np.array(L)"
   ]
  },
  {
   "cell_type": "code",
   "execution_count": 43,
   "metadata": {},
   "outputs": [],
   "source": [
    "def transposeMatrix(m):\n",
    "    return map(list,zip(*m))\n",
    "\n",
    "def getMatrixMinor(m,i,j):\n",
    "    return [row[:j] + row[j+1:] for row in (m[:i]+m[i+1:])]\n",
    "\n",
    "def getMatrixDeternminant(m):\n",
    "    #base case for 2x2 matrix\n",
    "    if len(m) == 2:\n",
    "        return m[0][0]*m[1][1]-m[0][1]*m[1][0]\n",
    "\n",
    "    determinant = 0\n",
    "    for c in range(len(m)):\n",
    "        determinant += ((-1)**c)*m[0][c]*getMatrixDeternminant(getMatrixMinor(m,0,c))\n",
    "    return determinant\n",
    "\n",
    "def getMatrixInverse(m):\n",
    "    determinant = getMatrixDeternminant(m)\n",
    "    #special case for 2x2 matrix:\n",
    "    if len(m) == 2:\n",
    "        return [[m[1][1]/determinant, -1*m[0][1]/determinant],\n",
    "                [-1*m[1][0]/determinant, m[0][0]/determinant]]\n",
    "\n",
    "    #find matrix of cofactors\n",
    "    cofactors = []\n",
    "    for r in range(len(m)):\n",
    "        cofactorRow = []\n",
    "        for c in range(len(m)):\n",
    "            minor = getMatrixMinor(m,r,c)\n",
    "            cofactorRow.append(((-1)**(r+c)) * getMatrixDeternminant(minor))\n",
    "        cofactors.append(cofactorRow)\n",
    "    cofactors = transposeMatrix(cofactors)\n",
    "    print(cofactors)\n",
    "    for r in range(len(cofactors)):\n",
    "        for c in range(len(cofactors)):\n",
    "            cofactors[r][c] = cofactors[r][c]/determinant\n",
    "    return cofactors"
   ]
  },
  {
   "cell_type": "code",
   "execution_count": 44,
   "metadata": {},
   "outputs": [
    {
     "name": "stdout",
     "output_type": "stream",
     "text": [
      "<map object at 0x127df54d0>\n"
     ]
    },
    {
     "ename": "TypeError",
     "evalue": "object of type 'map' has no len()",
     "output_type": "error",
     "traceback": [
      "\u001b[0;31m---------------------------------------------------------------------------\u001b[0m",
      "\u001b[0;31mTypeError\u001b[0m                                 Traceback (most recent call last)",
      "\u001b[0;32m<ipython-input-44-199b74aabe6a>\u001b[0m in \u001b[0;36m<module>\u001b[0;34m\u001b[0m\n\u001b[1;32m      1\u001b[0m \u001b[0mL\u001b[0m \u001b[0;34m=\u001b[0m \u001b[0mforecast\u001b[0m\u001b[0;34m.\u001b[0m\u001b[0mmm\u001b[0m\u001b[0;34m.\u001b[0m\u001b[0mtolist\u001b[0m\u001b[0;34m(\u001b[0m\u001b[0;34m)\u001b[0m\u001b[0;34m\u001b[0m\u001b[0;34m\u001b[0m\u001b[0m\n\u001b[0;32m----> 2\u001b[0;31m \u001b[0mgetMatrixInverse\u001b[0m\u001b[0;34m(\u001b[0m\u001b[0mL\u001b[0m\u001b[0;34m)\u001b[0m\u001b[0;34m\u001b[0m\u001b[0;34m\u001b[0m\u001b[0m\n\u001b[0m",
      "\u001b[0;32m<ipython-input-43-894a8c488a45>\u001b[0m in \u001b[0;36mgetMatrixInverse\u001b[0;34m(m)\u001b[0m\n\u001b[1;32m     32\u001b[0m     \u001b[0mcofactors\u001b[0m \u001b[0;34m=\u001b[0m \u001b[0mtransposeMatrix\u001b[0m\u001b[0;34m(\u001b[0m\u001b[0mcofactors\u001b[0m\u001b[0;34m)\u001b[0m\u001b[0;34m\u001b[0m\u001b[0;34m\u001b[0m\u001b[0m\n\u001b[1;32m     33\u001b[0m     \u001b[0mprint\u001b[0m\u001b[0;34m(\u001b[0m\u001b[0mcofactors\u001b[0m\u001b[0;34m)\u001b[0m\u001b[0;34m\u001b[0m\u001b[0;34m\u001b[0m\u001b[0m\n\u001b[0;32m---> 34\u001b[0;31m     \u001b[0;32mfor\u001b[0m \u001b[0mr\u001b[0m \u001b[0;32min\u001b[0m \u001b[0mrange\u001b[0m\u001b[0;34m(\u001b[0m\u001b[0mlen\u001b[0m\u001b[0;34m(\u001b[0m\u001b[0mcofactors\u001b[0m\u001b[0;34m)\u001b[0m\u001b[0;34m)\u001b[0m\u001b[0;34m:\u001b[0m\u001b[0;34m\u001b[0m\u001b[0;34m\u001b[0m\u001b[0m\n\u001b[0m\u001b[1;32m     35\u001b[0m         \u001b[0;32mfor\u001b[0m \u001b[0mc\u001b[0m \u001b[0;32min\u001b[0m \u001b[0mrange\u001b[0m\u001b[0;34m(\u001b[0m\u001b[0mlen\u001b[0m\u001b[0;34m(\u001b[0m\u001b[0mcofactors\u001b[0m\u001b[0;34m)\u001b[0m\u001b[0;34m)\u001b[0m\u001b[0;34m:\u001b[0m\u001b[0;34m\u001b[0m\u001b[0;34m\u001b[0m\u001b[0m\n\u001b[1;32m     36\u001b[0m             \u001b[0mcofactors\u001b[0m\u001b[0;34m[\u001b[0m\u001b[0mr\u001b[0m\u001b[0;34m]\u001b[0m\u001b[0;34m[\u001b[0m\u001b[0mc\u001b[0m\u001b[0;34m]\u001b[0m \u001b[0;34m=\u001b[0m \u001b[0mcofactors\u001b[0m\u001b[0;34m[\u001b[0m\u001b[0mr\u001b[0m\u001b[0;34m]\u001b[0m\u001b[0;34m[\u001b[0m\u001b[0mc\u001b[0m\u001b[0;34m]\u001b[0m\u001b[0;34m/\u001b[0m\u001b[0mdeterminant\u001b[0m\u001b[0;34m\u001b[0m\u001b[0;34m\u001b[0m\u001b[0m\n",
      "\u001b[0;31mTypeError\u001b[0m: object of type 'map' has no len()"
     ]
    }
   ],
   "source": [
    "L = forecast.mm.tolist()\n",
    "getMatrixInverse(L)"
   ]
  },
  {
   "cell_type": "code",
   "execution_count": 146,
   "metadata": {},
   "outputs": [],
   "source": [
    "x = np.arange(1, 10, 0.1)\n",
    "y = x**2\n",
    "f = scipy.interpolate.interp1d(x, y)"
   ]
  },
  {
   "cell_type": "code",
   "execution_count": 183,
   "metadata": {},
   "outputs": [],
   "source": [
    "f = scipy.interpolate.interp1d(x, y)"
   ]
  },
  {
   "cell_type": "code",
   "execution_count": null,
   "metadata": {},
   "outputs": [],
   "source": []
  },
  {
   "cell_type": "code",
   "execution_count": null,
   "metadata": {},
   "outputs": [],
   "source": []
  },
  {
   "cell_type": "code",
   "execution_count": null,
   "metadata": {},
   "outputs": [],
   "source": []
  },
  {
   "cell_type": "code",
   "execution_count": null,
   "metadata": {},
   "outputs": [],
   "source": []
  },
  {
   "cell_type": "code",
   "execution_count": null,
   "metadata": {},
   "outputs": [],
   "source": []
  },
  {
   "cell_type": "code",
   "execution_count": null,
   "metadata": {},
   "outputs": [],
   "source": []
  },
  {
   "cell_type": "code",
   "execution_count": 184,
   "metadata": {},
   "outputs": [
    {
     "ename": "ValueError",
     "evalue": "object arrays are not supported",
     "output_type": "error",
     "traceback": [
      "\u001b[0;31m---------------------------------------------------------------------------\u001b[0m",
      "\u001b[0;31mValueError\u001b[0m                                Traceback (most recent call last)",
      "\u001b[0;32m<ipython-input-184-dcd433b6a7f9>\u001b[0m in \u001b[0;36m<module>\u001b[0;34m\u001b[0m\n\u001b[1;32m      1\u001b[0m \u001b[0;32mimport\u001b[0m \u001b[0mdecimal\u001b[0m\u001b[0;34m\u001b[0m\u001b[0;34m\u001b[0m\u001b[0m\n\u001b[0;32m----> 2\u001b[0;31m \u001b[0mf\u001b[0m\u001b[0;34m(\u001b[0m\u001b[0mdecimal\u001b[0m\u001b[0;34m.\u001b[0m\u001b[0mDecimal\u001b[0m\u001b[0;34m(\u001b[0m\u001b[0;36m2\u001b[0m\u001b[0;34m)\u001b[0m\u001b[0;34m)\u001b[0m\u001b[0;34m\u001b[0m\u001b[0;34m\u001b[0m\u001b[0m\n\u001b[0m",
      "\u001b[0;32m/Library/Frameworks/Python.framework/Versions/3.7/lib/python3.7/site-packages/scipy/interpolate/polyint.py\u001b[0m in \u001b[0;36m__call__\u001b[0;34m(self, x)\u001b[0m\n\u001b[1;32m     76\u001b[0m \u001b[0;34m\u001b[0m\u001b[0m\n\u001b[1;32m     77\u001b[0m         \"\"\"\n\u001b[0;32m---> 78\u001b[0;31m         \u001b[0mx\u001b[0m\u001b[0;34m,\u001b[0m \u001b[0mx_shape\u001b[0m \u001b[0;34m=\u001b[0m \u001b[0mself\u001b[0m\u001b[0;34m.\u001b[0m\u001b[0m_prepare_x\u001b[0m\u001b[0;34m(\u001b[0m\u001b[0mx\u001b[0m\u001b[0;34m)\u001b[0m\u001b[0;34m\u001b[0m\u001b[0;34m\u001b[0m\u001b[0m\n\u001b[0m\u001b[1;32m     79\u001b[0m         \u001b[0my\u001b[0m \u001b[0;34m=\u001b[0m \u001b[0mself\u001b[0m\u001b[0;34m.\u001b[0m\u001b[0m_evaluate\u001b[0m\u001b[0;34m(\u001b[0m\u001b[0mx\u001b[0m\u001b[0;34m)\u001b[0m\u001b[0;34m\u001b[0m\u001b[0;34m\u001b[0m\u001b[0m\n\u001b[1;32m     80\u001b[0m         \u001b[0;32mreturn\u001b[0m \u001b[0mself\u001b[0m\u001b[0;34m.\u001b[0m\u001b[0m_finish_y\u001b[0m\u001b[0;34m(\u001b[0m\u001b[0my\u001b[0m\u001b[0;34m,\u001b[0m \u001b[0mx_shape\u001b[0m\u001b[0;34m)\u001b[0m\u001b[0;34m\u001b[0m\u001b[0;34m\u001b[0m\u001b[0m\n",
      "\u001b[0;32m/Library/Frameworks/Python.framework/Versions/3.7/lib/python3.7/site-packages/scipy/interpolate/polyint.py\u001b[0m in \u001b[0;36m_prepare_x\u001b[0;34m(self, x)\u001b[0m\n\u001b[1;32m     88\u001b[0m     \u001b[0;32mdef\u001b[0m \u001b[0m_prepare_x\u001b[0m\u001b[0;34m(\u001b[0m\u001b[0mself\u001b[0m\u001b[0;34m,\u001b[0m \u001b[0mx\u001b[0m\u001b[0;34m)\u001b[0m\u001b[0;34m:\u001b[0m\u001b[0;34m\u001b[0m\u001b[0;34m\u001b[0m\u001b[0m\n\u001b[1;32m     89\u001b[0m         \u001b[0;34m\"\"\"Reshape input x array to 1-D\"\"\"\u001b[0m\u001b[0;34m\u001b[0m\u001b[0;34m\u001b[0m\u001b[0m\n\u001b[0;32m---> 90\u001b[0;31m         \u001b[0mx\u001b[0m \u001b[0;34m=\u001b[0m \u001b[0m_asarray_validated\u001b[0m\u001b[0;34m(\u001b[0m\u001b[0mx\u001b[0m\u001b[0;34m,\u001b[0m \u001b[0mcheck_finite\u001b[0m\u001b[0;34m=\u001b[0m\u001b[0;32mFalse\u001b[0m\u001b[0;34m,\u001b[0m \u001b[0mas_inexact\u001b[0m\u001b[0;34m=\u001b[0m\u001b[0;32mTrue\u001b[0m\u001b[0;34m)\u001b[0m\u001b[0;34m\u001b[0m\u001b[0;34m\u001b[0m\u001b[0m\n\u001b[0m\u001b[1;32m     91\u001b[0m         \u001b[0mx_shape\u001b[0m \u001b[0;34m=\u001b[0m \u001b[0mx\u001b[0m\u001b[0;34m.\u001b[0m\u001b[0mshape\u001b[0m\u001b[0;34m\u001b[0m\u001b[0;34m\u001b[0m\u001b[0m\n\u001b[1;32m     92\u001b[0m         \u001b[0;32mreturn\u001b[0m \u001b[0mx\u001b[0m\u001b[0;34m.\u001b[0m\u001b[0mravel\u001b[0m\u001b[0;34m(\u001b[0m\u001b[0;34m)\u001b[0m\u001b[0;34m,\u001b[0m \u001b[0mx_shape\u001b[0m\u001b[0;34m\u001b[0m\u001b[0;34m\u001b[0m\u001b[0m\n",
      "\u001b[0;32m/Library/Frameworks/Python.framework/Versions/3.7/lib/python3.7/site-packages/scipy/_lib/_util.py\u001b[0m in \u001b[0;36m_asarray_validated\u001b[0;34m(a, check_finite, sparse_ok, objects_ok, mask_ok, as_inexact)\u001b[0m\n\u001b[1;32m    240\u001b[0m     \u001b[0;32mif\u001b[0m \u001b[0;32mnot\u001b[0m \u001b[0mobjects_ok\u001b[0m\u001b[0;34m:\u001b[0m\u001b[0;34m\u001b[0m\u001b[0;34m\u001b[0m\u001b[0m\n\u001b[1;32m    241\u001b[0m         \u001b[0;32mif\u001b[0m \u001b[0ma\u001b[0m\u001b[0;34m.\u001b[0m\u001b[0mdtype\u001b[0m \u001b[0;32mis\u001b[0m \u001b[0mnp\u001b[0m\u001b[0;34m.\u001b[0m\u001b[0mdtype\u001b[0m\u001b[0;34m(\u001b[0m\u001b[0;34m'O'\u001b[0m\u001b[0;34m)\u001b[0m\u001b[0;34m:\u001b[0m\u001b[0;34m\u001b[0m\u001b[0;34m\u001b[0m\u001b[0m\n\u001b[0;32m--> 242\u001b[0;31m             \u001b[0;32mraise\u001b[0m \u001b[0mValueError\u001b[0m\u001b[0;34m(\u001b[0m\u001b[0;34m'object arrays are not supported'\u001b[0m\u001b[0;34m)\u001b[0m\u001b[0;34m\u001b[0m\u001b[0;34m\u001b[0m\u001b[0m\n\u001b[0m\u001b[1;32m    243\u001b[0m     \u001b[0;32mif\u001b[0m \u001b[0mas_inexact\u001b[0m\u001b[0;34m:\u001b[0m\u001b[0;34m\u001b[0m\u001b[0;34m\u001b[0m\u001b[0m\n\u001b[1;32m    244\u001b[0m         \u001b[0;32mif\u001b[0m \u001b[0;32mnot\u001b[0m \u001b[0mnp\u001b[0m\u001b[0;34m.\u001b[0m\u001b[0missubdtype\u001b[0m\u001b[0;34m(\u001b[0m\u001b[0ma\u001b[0m\u001b[0;34m.\u001b[0m\u001b[0mdtype\u001b[0m\u001b[0;34m,\u001b[0m \u001b[0mnp\u001b[0m\u001b[0;34m.\u001b[0m\u001b[0minexact\u001b[0m\u001b[0;34m)\u001b[0m\u001b[0;34m:\u001b[0m\u001b[0;34m\u001b[0m\u001b[0;34m\u001b[0m\u001b[0m\n",
      "\u001b[0;31mValueError\u001b[0m: object arrays are not supported"
     ]
    }
   ],
   "source": [
    "import decimal\n",
    "f(decimal.Decimal(2))"
   ]
  },
  {
   "cell_type": "code",
   "execution_count": 164,
   "metadata": {},
   "outputs": [
    {
     "ename": "ValueError",
     "evalue": "object arrays are not supported",
     "output_type": "error",
     "traceback": [
      "\u001b[0;31m---------------------------------------------------------------------------\u001b[0m",
      "\u001b[0;31mValueError\u001b[0m                                Traceback (most recent call last)",
      "\u001b[0;32m<ipython-input-164-2018545fcc93>\u001b[0m in \u001b[0;36m<module>\u001b[0;34m\u001b[0m\n\u001b[0;32m----> 1\u001b[0;31m \u001b[0mf\u001b[0m\u001b[0;34m(\u001b[0m\u001b[0mmp\u001b[0m\u001b[0;34m.\u001b[0m\u001b[0mmpf\u001b[0m\u001b[0;34m(\u001b[0m\u001b[0;36m2\u001b[0m\u001b[0;34m)\u001b[0m\u001b[0;34m)\u001b[0m\u001b[0;34m\u001b[0m\u001b[0;34m\u001b[0m\u001b[0m\n\u001b[0m",
      "\u001b[0;32m/Library/Frameworks/Python.framework/Versions/3.7/lib/python3.7/site-packages/scipy/interpolate/polyint.py\u001b[0m in \u001b[0;36m__call__\u001b[0;34m(self, x)\u001b[0m\n\u001b[1;32m     76\u001b[0m \u001b[0;34m\u001b[0m\u001b[0m\n\u001b[1;32m     77\u001b[0m         \"\"\"\n\u001b[0;32m---> 78\u001b[0;31m         \u001b[0mx\u001b[0m\u001b[0;34m,\u001b[0m \u001b[0mx_shape\u001b[0m \u001b[0;34m=\u001b[0m \u001b[0mself\u001b[0m\u001b[0;34m.\u001b[0m\u001b[0m_prepare_x\u001b[0m\u001b[0;34m(\u001b[0m\u001b[0mx\u001b[0m\u001b[0;34m)\u001b[0m\u001b[0;34m\u001b[0m\u001b[0;34m\u001b[0m\u001b[0m\n\u001b[0m\u001b[1;32m     79\u001b[0m         \u001b[0my\u001b[0m \u001b[0;34m=\u001b[0m \u001b[0mself\u001b[0m\u001b[0;34m.\u001b[0m\u001b[0m_evaluate\u001b[0m\u001b[0;34m(\u001b[0m\u001b[0mx\u001b[0m\u001b[0;34m)\u001b[0m\u001b[0;34m\u001b[0m\u001b[0;34m\u001b[0m\u001b[0m\n\u001b[1;32m     80\u001b[0m         \u001b[0;32mreturn\u001b[0m \u001b[0mself\u001b[0m\u001b[0;34m.\u001b[0m\u001b[0m_finish_y\u001b[0m\u001b[0;34m(\u001b[0m\u001b[0my\u001b[0m\u001b[0;34m,\u001b[0m \u001b[0mx_shape\u001b[0m\u001b[0;34m)\u001b[0m\u001b[0;34m\u001b[0m\u001b[0;34m\u001b[0m\u001b[0m\n",
      "\u001b[0;32m/Library/Frameworks/Python.framework/Versions/3.7/lib/python3.7/site-packages/scipy/interpolate/polyint.py\u001b[0m in \u001b[0;36m_prepare_x\u001b[0;34m(self, x)\u001b[0m\n\u001b[1;32m     88\u001b[0m     \u001b[0;32mdef\u001b[0m \u001b[0m_prepare_x\u001b[0m\u001b[0;34m(\u001b[0m\u001b[0mself\u001b[0m\u001b[0;34m,\u001b[0m \u001b[0mx\u001b[0m\u001b[0;34m)\u001b[0m\u001b[0;34m:\u001b[0m\u001b[0;34m\u001b[0m\u001b[0;34m\u001b[0m\u001b[0m\n\u001b[1;32m     89\u001b[0m         \u001b[0;34m\"\"\"Reshape input x array to 1-D\"\"\"\u001b[0m\u001b[0;34m\u001b[0m\u001b[0;34m\u001b[0m\u001b[0m\n\u001b[0;32m---> 90\u001b[0;31m         \u001b[0mx\u001b[0m \u001b[0;34m=\u001b[0m \u001b[0m_asarray_validated\u001b[0m\u001b[0;34m(\u001b[0m\u001b[0mx\u001b[0m\u001b[0;34m,\u001b[0m \u001b[0mcheck_finite\u001b[0m\u001b[0;34m=\u001b[0m\u001b[0;32mFalse\u001b[0m\u001b[0;34m,\u001b[0m \u001b[0mas_inexact\u001b[0m\u001b[0;34m=\u001b[0m\u001b[0;32mTrue\u001b[0m\u001b[0;34m)\u001b[0m\u001b[0;34m\u001b[0m\u001b[0;34m\u001b[0m\u001b[0m\n\u001b[0m\u001b[1;32m     91\u001b[0m         \u001b[0mx_shape\u001b[0m \u001b[0;34m=\u001b[0m \u001b[0mx\u001b[0m\u001b[0;34m.\u001b[0m\u001b[0mshape\u001b[0m\u001b[0;34m\u001b[0m\u001b[0;34m\u001b[0m\u001b[0m\n\u001b[1;32m     92\u001b[0m         \u001b[0;32mreturn\u001b[0m \u001b[0mx\u001b[0m\u001b[0;34m.\u001b[0m\u001b[0mravel\u001b[0m\u001b[0;34m(\u001b[0m\u001b[0;34m)\u001b[0m\u001b[0;34m,\u001b[0m \u001b[0mx_shape\u001b[0m\u001b[0;34m\u001b[0m\u001b[0;34m\u001b[0m\u001b[0m\n",
      "\u001b[0;32m/Library/Frameworks/Python.framework/Versions/3.7/lib/python3.7/site-packages/scipy/_lib/_util.py\u001b[0m in \u001b[0;36m_asarray_validated\u001b[0;34m(a, check_finite, sparse_ok, objects_ok, mask_ok, as_inexact)\u001b[0m\n\u001b[1;32m    240\u001b[0m     \u001b[0;32mif\u001b[0m \u001b[0;32mnot\u001b[0m \u001b[0mobjects_ok\u001b[0m\u001b[0;34m:\u001b[0m\u001b[0;34m\u001b[0m\u001b[0;34m\u001b[0m\u001b[0m\n\u001b[1;32m    241\u001b[0m         \u001b[0;32mif\u001b[0m \u001b[0ma\u001b[0m\u001b[0;34m.\u001b[0m\u001b[0mdtype\u001b[0m \u001b[0;32mis\u001b[0m \u001b[0mnp\u001b[0m\u001b[0;34m.\u001b[0m\u001b[0mdtype\u001b[0m\u001b[0;34m(\u001b[0m\u001b[0;34m'O'\u001b[0m\u001b[0;34m)\u001b[0m\u001b[0;34m:\u001b[0m\u001b[0;34m\u001b[0m\u001b[0;34m\u001b[0m\u001b[0m\n\u001b[0;32m--> 242\u001b[0;31m             \u001b[0;32mraise\u001b[0m \u001b[0mValueError\u001b[0m\u001b[0;34m(\u001b[0m\u001b[0;34m'object arrays are not supported'\u001b[0m\u001b[0;34m)\u001b[0m\u001b[0;34m\u001b[0m\u001b[0;34m\u001b[0m\u001b[0m\n\u001b[0m\u001b[1;32m    243\u001b[0m     \u001b[0;32mif\u001b[0m \u001b[0mas_inexact\u001b[0m\u001b[0;34m:\u001b[0m\u001b[0;34m\u001b[0m\u001b[0;34m\u001b[0m\u001b[0m\n\u001b[1;32m    244\u001b[0m         \u001b[0;32mif\u001b[0m \u001b[0;32mnot\u001b[0m \u001b[0mnp\u001b[0m\u001b[0;34m.\u001b[0m\u001b[0missubdtype\u001b[0m\u001b[0;34m(\u001b[0m\u001b[0ma\u001b[0m\u001b[0;34m.\u001b[0m\u001b[0mdtype\u001b[0m\u001b[0;34m,\u001b[0m \u001b[0mnp\u001b[0m\u001b[0;34m.\u001b[0m\u001b[0minexact\u001b[0m\u001b[0;34m)\u001b[0m\u001b[0;34m:\u001b[0m\u001b[0;34m\u001b[0m\u001b[0;34m\u001b[0m\u001b[0m\n",
      "\u001b[0;31mValueError\u001b[0m: object arrays are not supported"
     ]
    }
   ],
   "source": [
    "f(mp.mpf(2))"
   ]
  },
  {
   "cell_type": "code",
   "execution_count": 229,
   "metadata": {},
   "outputs": [],
   "source": [
    "def interpolate(yin, xin, xout, method='linear'):\n",
    "  \"\"\"\n",
    "  Interpolate the curve defined by (xin, yin) at points xout. The array\n",
    "  xin must be monotonically increasing. The output has the same data type as\n",
    "  the input yin.\n",
    "\n",
    "  :param yin: y values of input curve\n",
    "  :param xin: x values of input curve\n",
    "  :param xout: x values of output interpolated curve\n",
    "  :param method: interpolation method ('linear' | 'nearest')\n",
    "\n",
    "  @:rtype: numpy array with interpolated curve\n",
    "  \"\"\"\n",
    "  lenxin = len(xin)\n",
    "\n",
    "  i1 = np.searchsorted(xin, xout)\n",
    "  #i1[ i1==0 ] = 1\n",
    "  #i1[ i1==lenxin ] = lenxin-1\n",
    "\n",
    "  x0 = xin[i1-1]\n",
    "  x1 = xin[i1]\n",
    "  y0 = yin[i1-1]\n",
    "  y1 = yin[i1]\n",
    "\n",
    "  if method == 'linear':\n",
    "    return (xout - x0) / (x1 - x0) * (y1 - y0) + y0\n",
    "  elif method == 'nearest':\n",
    "    return np.where(np.abs(xout - x0) < np.abs(xout - x1), y0, y1)\n",
    "  else:\n",
    "    raise ValueError('Invalid interpolation method: %s' % method)# Python code here"
   ]
  },
  {
   "cell_type": "code",
   "execution_count": 231,
   "metadata": {},
   "outputs": [
    {
     "ename": "TypeError",
     "evalue": "'<' not supported between instances of 'numpy.float128' and 'mpf'",
     "output_type": "error",
     "traceback": [
      "\u001b[0;31m---------------------------------------------------------------------------\u001b[0m",
      "\u001b[0;31mTypeError\u001b[0m                                 Traceback (most recent call last)",
      "\u001b[0;32m/Library/Frameworks/Python.framework/Versions/3.7/lib/python3.7/site-packages/numpy/core/fromnumeric.py\u001b[0m in \u001b[0;36m_wrapfunc\u001b[0;34m(obj, method, *args, **kwds)\u001b[0m\n\u001b[1;32m     60\u001b[0m     \u001b[0;32mtry\u001b[0m\u001b[0;34m:\u001b[0m\u001b[0;34m\u001b[0m\u001b[0;34m\u001b[0m\u001b[0m\n\u001b[0;32m---> 61\u001b[0;31m         \u001b[0;32mreturn\u001b[0m \u001b[0mbound\u001b[0m\u001b[0;34m(\u001b[0m\u001b[0;34m*\u001b[0m\u001b[0margs\u001b[0m\u001b[0;34m,\u001b[0m \u001b[0;34m**\u001b[0m\u001b[0mkwds\u001b[0m\u001b[0;34m)\u001b[0m\u001b[0;34m\u001b[0m\u001b[0;34m\u001b[0m\u001b[0m\n\u001b[0m\u001b[1;32m     62\u001b[0m     \u001b[0;32mexcept\u001b[0m \u001b[0mTypeError\u001b[0m\u001b[0;34m:\u001b[0m\u001b[0;34m\u001b[0m\u001b[0;34m\u001b[0m\u001b[0m\n",
      "\u001b[0;31mTypeError\u001b[0m: '<' not supported between instances of 'numpy.float128' and 'mpf'",
      "\nDuring handling of the above exception, another exception occurred:\n",
      "\u001b[0;31mTypeError\u001b[0m                                 Traceback (most recent call last)",
      "\u001b[0;32m<ipython-input-231-8efc2a3ca9bb>\u001b[0m in \u001b[0;36m<module>\u001b[0;34m\u001b[0m\n\u001b[0;32m----> 1\u001b[0;31m \u001b[0minterpolate\u001b[0m\u001b[0;34m(\u001b[0m\u001b[0my\u001b[0m\u001b[0;34m,\u001b[0m \u001b[0mx\u001b[0m\u001b[0;34m,\u001b[0m \u001b[0mmp\u001b[0m\u001b[0;34m.\u001b[0m\u001b[0mmpf\u001b[0m\u001b[0;34m(\u001b[0m\u001b[0;36m2\u001b[0m\u001b[0;34m)\u001b[0m\u001b[0;34m)\u001b[0m\u001b[0;34m\u001b[0m\u001b[0;34m\u001b[0m\u001b[0m\n\u001b[0m",
      "\u001b[0;32m<ipython-input-229-d34fee0cd5ca>\u001b[0m in \u001b[0;36minterpolate\u001b[0;34m(yin, xin, xout, method)\u001b[0m\n\u001b[1;32m     14\u001b[0m   \u001b[0mlenxin\u001b[0m \u001b[0;34m=\u001b[0m \u001b[0mlen\u001b[0m\u001b[0;34m(\u001b[0m\u001b[0mxin\u001b[0m\u001b[0;34m)\u001b[0m\u001b[0;34m\u001b[0m\u001b[0;34m\u001b[0m\u001b[0m\n\u001b[1;32m     15\u001b[0m \u001b[0;34m\u001b[0m\u001b[0m\n\u001b[0;32m---> 16\u001b[0;31m   \u001b[0mi1\u001b[0m \u001b[0;34m=\u001b[0m \u001b[0mnp\u001b[0m\u001b[0;34m.\u001b[0m\u001b[0msearchsorted\u001b[0m\u001b[0;34m(\u001b[0m\u001b[0mxin\u001b[0m\u001b[0;34m,\u001b[0m \u001b[0mxout\u001b[0m\u001b[0;34m)\u001b[0m\u001b[0;34m\u001b[0m\u001b[0;34m\u001b[0m\u001b[0m\n\u001b[0m\u001b[1;32m     17\u001b[0m   \u001b[0;31m#i1[ i1==0 ] = 1\u001b[0m\u001b[0;34m\u001b[0m\u001b[0;34m\u001b[0m\u001b[0;34m\u001b[0m\u001b[0m\n\u001b[1;32m     18\u001b[0m   \u001b[0;31m#i1[ i1==lenxin ] = lenxin-1\u001b[0m\u001b[0;34m\u001b[0m\u001b[0;34m\u001b[0m\u001b[0;34m\u001b[0m\u001b[0m\n",
      "\u001b[0;32m<__array_function__ internals>\u001b[0m in \u001b[0;36msearchsorted\u001b[0;34m(*args, **kwargs)\u001b[0m\n",
      "\u001b[0;32m/Library/Frameworks/Python.framework/Versions/3.7/lib/python3.7/site-packages/numpy/core/fromnumeric.py\u001b[0m in \u001b[0;36msearchsorted\u001b[0;34m(a, v, side, sorter)\u001b[0m\n\u001b[1;32m   1294\u001b[0m \u001b[0;34m\u001b[0m\u001b[0m\n\u001b[1;32m   1295\u001b[0m     \"\"\"\n\u001b[0;32m-> 1296\u001b[0;31m     \u001b[0;32mreturn\u001b[0m \u001b[0m_wrapfunc\u001b[0m\u001b[0;34m(\u001b[0m\u001b[0ma\u001b[0m\u001b[0;34m,\u001b[0m \u001b[0;34m'searchsorted'\u001b[0m\u001b[0;34m,\u001b[0m \u001b[0mv\u001b[0m\u001b[0;34m,\u001b[0m \u001b[0mside\u001b[0m\u001b[0;34m=\u001b[0m\u001b[0mside\u001b[0m\u001b[0;34m,\u001b[0m \u001b[0msorter\u001b[0m\u001b[0;34m=\u001b[0m\u001b[0msorter\u001b[0m\u001b[0;34m)\u001b[0m\u001b[0;34m\u001b[0m\u001b[0;34m\u001b[0m\u001b[0m\n\u001b[0m\u001b[1;32m   1297\u001b[0m \u001b[0;34m\u001b[0m\u001b[0m\n\u001b[1;32m   1298\u001b[0m \u001b[0;34m\u001b[0m\u001b[0m\n",
      "\u001b[0;32m/Library/Frameworks/Python.framework/Versions/3.7/lib/python3.7/site-packages/numpy/core/fromnumeric.py\u001b[0m in \u001b[0;36m_wrapfunc\u001b[0;34m(obj, method, *args, **kwds)\u001b[0m\n\u001b[1;32m     68\u001b[0m         \u001b[0;31m# Call _wrapit from within the except clause to ensure a potential\u001b[0m\u001b[0;34m\u001b[0m\u001b[0;34m\u001b[0m\u001b[0;34m\u001b[0m\u001b[0m\n\u001b[1;32m     69\u001b[0m         \u001b[0;31m# exception has a traceback chain.\u001b[0m\u001b[0;34m\u001b[0m\u001b[0;34m\u001b[0m\u001b[0;34m\u001b[0m\u001b[0m\n\u001b[0;32m---> 70\u001b[0;31m         \u001b[0;32mreturn\u001b[0m \u001b[0m_wrapit\u001b[0m\u001b[0;34m(\u001b[0m\u001b[0mobj\u001b[0m\u001b[0;34m,\u001b[0m \u001b[0mmethod\u001b[0m\u001b[0;34m,\u001b[0m \u001b[0;34m*\u001b[0m\u001b[0margs\u001b[0m\u001b[0;34m,\u001b[0m \u001b[0;34m**\u001b[0m\u001b[0mkwds\u001b[0m\u001b[0;34m)\u001b[0m\u001b[0;34m\u001b[0m\u001b[0;34m\u001b[0m\u001b[0m\n\u001b[0m\u001b[1;32m     71\u001b[0m \u001b[0;34m\u001b[0m\u001b[0m\n\u001b[1;32m     72\u001b[0m \u001b[0;34m\u001b[0m\u001b[0m\n",
      "\u001b[0;32m/Library/Frameworks/Python.framework/Versions/3.7/lib/python3.7/site-packages/numpy/core/fromnumeric.py\u001b[0m in \u001b[0;36m_wrapit\u001b[0;34m(obj, method, *args, **kwds)\u001b[0m\n\u001b[1;32m     45\u001b[0m     \u001b[0;32mexcept\u001b[0m \u001b[0mAttributeError\u001b[0m\u001b[0;34m:\u001b[0m\u001b[0;34m\u001b[0m\u001b[0;34m\u001b[0m\u001b[0m\n\u001b[1;32m     46\u001b[0m         \u001b[0mwrap\u001b[0m \u001b[0;34m=\u001b[0m \u001b[0;32mNone\u001b[0m\u001b[0;34m\u001b[0m\u001b[0;34m\u001b[0m\u001b[0m\n\u001b[0;32m---> 47\u001b[0;31m     \u001b[0mresult\u001b[0m \u001b[0;34m=\u001b[0m \u001b[0mgetattr\u001b[0m\u001b[0;34m(\u001b[0m\u001b[0masarray\u001b[0m\u001b[0;34m(\u001b[0m\u001b[0mobj\u001b[0m\u001b[0;34m)\u001b[0m\u001b[0;34m,\u001b[0m \u001b[0mmethod\u001b[0m\u001b[0;34m)\u001b[0m\u001b[0;34m(\u001b[0m\u001b[0;34m*\u001b[0m\u001b[0margs\u001b[0m\u001b[0;34m,\u001b[0m \u001b[0;34m**\u001b[0m\u001b[0mkwds\u001b[0m\u001b[0;34m)\u001b[0m\u001b[0;34m\u001b[0m\u001b[0;34m\u001b[0m\u001b[0m\n\u001b[0m\u001b[1;32m     48\u001b[0m     \u001b[0;32mif\u001b[0m \u001b[0mwrap\u001b[0m\u001b[0;34m:\u001b[0m\u001b[0;34m\u001b[0m\u001b[0;34m\u001b[0m\u001b[0m\n\u001b[1;32m     49\u001b[0m         \u001b[0;32mif\u001b[0m \u001b[0;32mnot\u001b[0m \u001b[0misinstance\u001b[0m\u001b[0;34m(\u001b[0m\u001b[0mresult\u001b[0m\u001b[0;34m,\u001b[0m \u001b[0mmu\u001b[0m\u001b[0;34m.\u001b[0m\u001b[0mndarray\u001b[0m\u001b[0;34m)\u001b[0m\u001b[0;34m:\u001b[0m\u001b[0;34m\u001b[0m\u001b[0;34m\u001b[0m\u001b[0m\n",
      "\u001b[0;31mTypeError\u001b[0m: '<' not supported between instances of 'numpy.float128' and 'mpf'"
     ]
    }
   ],
   "source": [
    "interpolate(y, x, mp.mpf(2))"
   ]
  },
  {
   "cell_type": "code",
   "execution_count": 182,
   "metadata": {},
   "outputs": [
    {
     "data": {
      "text/plain": [
       "[<matplotlib.lines.Line2D at 0x134226d50>]"
      ]
     },
     "execution_count": 182,
     "metadata": {},
     "output_type": "execute_result"
    },
    {
     "data": {
      "image/png": "[encoded data removed]",
      "text/plain": [
       "<Figure size 432x288 with 1 Axes>"
      ]
     },
     "metadata": {
      "needs_background": "light"
     },
     "output_type": "display_data"
    }
   ],
   "source": [
    "plt.plot(x, y)\n",
    "plt.plot(xx, yy)"
   ]
  },
  {
   "cell_type": "code",
   "execution_count": 181,
   "metadata": {},
   "outputs": [],
   "source": [
    "xx, yy, z = scipy.interpolate.splrep(x, y)"
   ]
  },
  {
   "cell_type": "code",
   "execution_count": 150,
   "metadata": {},
   "outputs": [],
   "source": [
    "mp.mp.prec = 1000"
   ]
  },
  {
   "cell_type": "code",
   "execution_count": 153,
   "metadata": {},
   "outputs": [],
   "source": [
    "def f(x):\n",
    "    return x**2."
   ]
  },
  {
   "cell_type": "code",
   "execution_count": 209,
   "metadata": {},
   "outputs": [],
   "source": [
    "x = np.arange(1, 10, 0.1)\n",
    "x = x.astype(np.longdouble)\n",
    "y = x**2\n",
    "f = scipy.interpolate.interp1d(x, y)"
   ]
  },
  {
   "cell_type": "code",
   "execution_count": 210,
   "metadata": {},
   "outputs": [
    {
     "data": {
      "text/plain": [
       "array([ 1.  ,  1.21,  1.44,  1.69,  1.96,  2.25,  2.56,  2.89,  3.24,\n",
       "        3.61,  4.  ,  4.41,  4.84,  5.29,  5.76,  6.25,  6.76,  7.29,\n",
       "        7.84,  8.41,  9.  ,  9.61, 10.24, 10.89, 11.56, 12.25, 12.96,\n",
       "       13.69, 14.44, 15.21, 16.  , 16.81, 17.64, 18.49, 19.36, 20.25,\n",
       "       21.16, 22.09, 23.04, 24.01, 25.  , 26.01, 27.04, 28.09, 29.16,\n",
       "       30.25, 31.36, 32.49, 33.64, 34.81, 36.  , 37.21, 38.44, 39.69,\n",
       "       40.96, 42.25, 43.56, 44.89, 46.24, 47.61, 49.  , 50.41, 51.84,\n",
       "       53.29, 54.76, 56.25, 57.76, 59.29, 60.84, 62.41, 64.  , 65.61,\n",
       "       67.24, 68.89, 70.56, 72.25, 73.96, 75.69, 77.44, 79.21, 81.  ,\n",
       "       82.81, 84.64, 86.49, 88.36, 90.25, 92.16, 94.09, 96.04, 98.01],\n",
       "      dtype=float128)"
      ]
     },
     "execution_count": 210,
     "metadata": {},
     "output_type": "execute_result"
    }
   ],
   "source": [
    "y"
   ]
  },
  {
   "cell_type": "code",
   "execution_count": 262,
   "metadata": {
    "scrolled": true
   },
   "outputs": [
    {
     "name": "stdout",
     "output_type": "stream",
     "text": [
      "2.334999999999995079491554861306212842464447021484375000000000\n"
     ]
    }
   ],
   "source": [
    "print('%.60f' % scipy.integrate.quad(f, 1, 2, epsrel = 1e-10)[0])"
   ]
  },
  {
   "cell_type": "code",
   "execution_count": 266,
   "metadata": {},
   "outputs": [
    {
     "name": "stdout",
     "output_type": "stream",
     "text": [
      "2.334999999999995079491554861306212842464447021484375000000000000000000000000000000000000000\n"
     ]
    }
   ],
   "source": [
    "print('%.90f' % scipy.integrate.quad(f, 1, 2, epsrel = 1e-50)[0])"
   ]
  },
  {
   "cell_type": "code",
   "execution_count": 254,
   "metadata": {},
   "outputs": [],
   "source": [
    "x = np.arange(1, 2, 0.0001)\n",
    "x = x.astype(np.longdouble)\n",
    "y = x**2"
   ]
  },
  {
   "cell_type": "code",
   "execution_count": 255,
   "metadata": {},
   "outputs": [
    {
     "data": {
      "text/plain": [
       "2.3329333549990595516"
      ]
     },
     "execution_count": 255,
     "metadata": {},
     "output_type": "execute_result"
    }
   ],
   "source": [
    "np.trapz(y, x)"
   ]
  },
  {
   "cell_type": "code",
   "execution_count": 222,
   "metadata": {},
   "outputs": [
    {
     "data": {
      "text/plain": [
       "mpf('2.33333333333333333333333333333333333333333333333333333333333333333333333333333333333333333333333333333333333333333333333333333333333333333333333333333333333333333333333333333333333333333333333333333333333333333333333333333333333333333333333333333333333333333333333333333333333333333333333333333333333321')"
      ]
     },
     "execution_count": 222,
     "metadata": {},
     "output_type": "execute_result"
    }
   ],
   "source": [
    "mp.quad(lambda x: x**2, [1, 2])"
   ]
  },
  {
   "cell_type": "code",
   "execution_count": 232,
   "metadata": {},
   "outputs": [],
   "source": [
    "a = np.array([2.3333333333333333333333333333333333333333333333333333333333333333333333333333333333333333333333333333333333333333333333333333333333333333333333333333333333333333333333333333333333333333333333333333333333333333333333333333333333333333333333333333333333333333333333333333333333333333333333]).astype(np.float128)"
   ]
  },
  {
   "cell_type": "code",
   "execution_count": 201,
   "metadata": {},
   "outputs": [],
   "source": [
    "def f_formp(x):\n",
    "    xx = float(x)\n",
    "    return f(xx)"
   ]
  },
  {
   "cell_type": "code",
   "execution_count": 202,
   "metadata": {},
   "outputs": [
    {
     "data": {
      "text/plain": [
       "array(4.)"
      ]
     },
     "execution_count": 202,
     "metadata": {},
     "output_type": "execute_result"
    }
   ],
   "source": [
    "f_formp(mp.mpf(2))"
   ]
  },
  {
   "cell_type": "code",
   "execution_count": 203,
   "metadata": {},
   "outputs": [
    {
     "ename": "TypeError",
     "evalue": "cannot create mpf from array(2.25)",
     "output_type": "error",
     "traceback": [
      "\u001b[0;31m---------------------------------------------------------------------------\u001b[0m",
      "\u001b[0;31mTypeError\u001b[0m                                 Traceback (most recent call last)",
      "\u001b[0;32m<ipython-input-203-dd3dd5196da5>\u001b[0m in \u001b[0;36m<module>\u001b[0;34m\u001b[0m\n\u001b[0;32m----> 1\u001b[0;31m \u001b[0mmp\u001b[0m\u001b[0;34m.\u001b[0m\u001b[0mquad\u001b[0m\u001b[0;34m(\u001b[0m\u001b[0mf_formp\u001b[0m\u001b[0;34m,\u001b[0m \u001b[0;34m[\u001b[0m\u001b[0;36m1\u001b[0m\u001b[0;34m,\u001b[0m \u001b[0;36m2\u001b[0m\u001b[0;34m]\u001b[0m\u001b[0;34m)\u001b[0m\u001b[0;34m\u001b[0m\u001b[0;34m\u001b[0m\u001b[0m\n\u001b[0m",
      "\u001b[0;32m/Library/Frameworks/Python.framework/Versions/3.7/lib/python3.7/site-packages/mpmath/calculus/quadrature.py\u001b[0m in \u001b[0;36mquad\u001b[0;34m(ctx, f, *points, **kwargs)\u001b[0m\n\u001b[1;32m    740\u001b[0m             \u001b[0mctx\u001b[0m\u001b[0;34m.\u001b[0m\u001b[0mprec\u001b[0m \u001b[0;34m+=\u001b[0m \u001b[0;36m20\u001b[0m\u001b[0;34m\u001b[0m\u001b[0;34m\u001b[0m\u001b[0m\n\u001b[1;32m    741\u001b[0m             \u001b[0;32mif\u001b[0m \u001b[0mdim\u001b[0m \u001b[0;34m==\u001b[0m \u001b[0;36m1\u001b[0m\u001b[0;34m:\u001b[0m\u001b[0;34m\u001b[0m\u001b[0;34m\u001b[0m\u001b[0m\n\u001b[0;32m--> 742\u001b[0;31m                 \u001b[0mv\u001b[0m\u001b[0;34m,\u001b[0m \u001b[0merr\u001b[0m \u001b[0;34m=\u001b[0m \u001b[0mrule\u001b[0m\u001b[0;34m.\u001b[0m\u001b[0msummation\u001b[0m\u001b[0;34m(\u001b[0m\u001b[0mf\u001b[0m\u001b[0;34m,\u001b[0m \u001b[0mpoints\u001b[0m\u001b[0;34m[\u001b[0m\u001b[0;36m0\u001b[0m\u001b[0;34m]\u001b[0m\u001b[0;34m,\u001b[0m \u001b[0mprec\u001b[0m\u001b[0;34m,\u001b[0m \u001b[0mepsilon\u001b[0m\u001b[0;34m,\u001b[0m \u001b[0mm\u001b[0m\u001b[0;34m,\u001b[0m \u001b[0mverbose\u001b[0m\u001b[0;34m)\u001b[0m\u001b[0;34m\u001b[0m\u001b[0;34m\u001b[0m\u001b[0m\n\u001b[0m\u001b[1;32m    743\u001b[0m             \u001b[0;32melif\u001b[0m \u001b[0mdim\u001b[0m \u001b[0;34m==\u001b[0m \u001b[0;36m2\u001b[0m\u001b[0;34m:\u001b[0m\u001b[0;34m\u001b[0m\u001b[0;34m\u001b[0m\u001b[0m\n\u001b[1;32m    744\u001b[0m                 v, err = rule.summation(lambda x: \\\n",
      "\u001b[0;32m/Library/Frameworks/Python.framework/Versions/3.7/lib/python3.7/site-packages/mpmath/calculus/quadrature.py\u001b[0m in \u001b[0;36msummation\u001b[0;34m(self, f, points, prec, epsilon, max_degree, verbose)\u001b[0m\n\u001b[1;32m    230\u001b[0m                     print(\"Integrating from %s to %s (degree %s of %s)\" % \\\n\u001b[1;32m    231\u001b[0m                         (ctx.nstr(a), ctx.nstr(b), degree, max_degree))\n\u001b[0;32m--> 232\u001b[0;31m                 \u001b[0mresults\u001b[0m\u001b[0;34m.\u001b[0m\u001b[0mappend\u001b[0m\u001b[0;34m(\u001b[0m\u001b[0mself\u001b[0m\u001b[0;34m.\u001b[0m\u001b[0msum_next\u001b[0m\u001b[0;34m(\u001b[0m\u001b[0mf\u001b[0m\u001b[0;34m,\u001b[0m \u001b[0mnodes\u001b[0m\u001b[0;34m,\u001b[0m \u001b[0mdegree\u001b[0m\u001b[0;34m,\u001b[0m \u001b[0mprec\u001b[0m\u001b[0;34m,\u001b[0m \u001b[0mresults\u001b[0m\u001b[0;34m,\u001b[0m \u001b[0mverbose\u001b[0m\u001b[0;34m)\u001b[0m\u001b[0;34m)\u001b[0m\u001b[0;34m\u001b[0m\u001b[0;34m\u001b[0m\u001b[0m\n\u001b[0m\u001b[1;32m    233\u001b[0m                 \u001b[0;32mif\u001b[0m \u001b[0mdegree\u001b[0m \u001b[0;34m>\u001b[0m \u001b[0;36m1\u001b[0m\u001b[0;34m:\u001b[0m\u001b[0;34m\u001b[0m\u001b[0;34m\u001b[0m\u001b[0m\n\u001b[1;32m    234\u001b[0m                     \u001b[0merr\u001b[0m \u001b[0;34m=\u001b[0m \u001b[0mself\u001b[0m\u001b[0;34m.\u001b[0m\u001b[0mestimate_error\u001b[0m\u001b[0;34m(\u001b[0m\u001b[0mresults\u001b[0m\u001b[0;34m,\u001b[0m \u001b[0mprec\u001b[0m\u001b[0;34m,\u001b[0m \u001b[0mepsilon\u001b[0m\u001b[0;34m)\u001b[0m\u001b[0;34m\u001b[0m\u001b[0;34m\u001b[0m\u001b[0m\n",
      "\u001b[0;32m/Library/Frameworks/Python.framework/Versions/3.7/lib/python3.7/site-packages/mpmath/calculus/quadrature.py\u001b[0m in \u001b[0;36msum_next\u001b[0;34m(self, f, nodes, degree, prec, previous, verbose)\u001b[0m\n\u001b[1;32m    302\u001b[0m         \u001b[0;32melse\u001b[0m\u001b[0;34m:\u001b[0m\u001b[0;34m\u001b[0m\u001b[0;34m\u001b[0m\u001b[0m\n\u001b[1;32m    303\u001b[0m             \u001b[0mS\u001b[0m \u001b[0;34m=\u001b[0m \u001b[0mself\u001b[0m\u001b[0;34m.\u001b[0m\u001b[0mctx\u001b[0m\u001b[0;34m.\u001b[0m\u001b[0mzero\u001b[0m\u001b[0;34m\u001b[0m\u001b[0;34m\u001b[0m\u001b[0m\n\u001b[0;32m--> 304\u001b[0;31m         \u001b[0mS\u001b[0m \u001b[0;34m+=\u001b[0m \u001b[0mself\u001b[0m\u001b[0;34m.\u001b[0m\u001b[0mctx\u001b[0m\u001b[0;34m.\u001b[0m\u001b[0mfdot\u001b[0m\u001b[0;34m(\u001b[0m\u001b[0;34m(\u001b[0m\u001b[0mw\u001b[0m\u001b[0;34m,\u001b[0m\u001b[0mf\u001b[0m\u001b[0;34m(\u001b[0m\u001b[0mx\u001b[0m\u001b[0;34m)\u001b[0m\u001b[0;34m)\u001b[0m \u001b[0;32mfor\u001b[0m \u001b[0;34m(\u001b[0m\u001b[0mx\u001b[0m\u001b[0;34m,\u001b[0m\u001b[0mw\u001b[0m\u001b[0;34m)\u001b[0m \u001b[0;32min\u001b[0m \u001b[0mnodes\u001b[0m\u001b[0;34m)\u001b[0m\u001b[0;34m\u001b[0m\u001b[0;34m\u001b[0m\u001b[0m\n\u001b[0m\u001b[1;32m    305\u001b[0m         \u001b[0;32mreturn\u001b[0m \u001b[0mh\u001b[0m\u001b[0;34m*\u001b[0m\u001b[0mS\u001b[0m\u001b[0;34m\u001b[0m\u001b[0;34m\u001b[0m\u001b[0m\n\u001b[1;32m    306\u001b[0m \u001b[0;34m\u001b[0m\u001b[0m\n",
      "\u001b[0;32m/Library/Frameworks/Python.framework/Versions/3.7/lib/python3.7/site-packages/mpmath/ctx_mp_python.py\u001b[0m in \u001b[0;36mfdot\u001b[0;34m(ctx, A, B, conjugate)\u001b[0m\n\u001b[1;32m    944\u001b[0m         \u001b[0;32mfor\u001b[0m \u001b[0ma\u001b[0m\u001b[0;34m,\u001b[0m \u001b[0mb\u001b[0m \u001b[0;32min\u001b[0m \u001b[0mA\u001b[0m\u001b[0;34m:\u001b[0m\u001b[0;34m\u001b[0m\u001b[0;34m\u001b[0m\u001b[0m\n\u001b[1;32m    945\u001b[0m             \u001b[0;32mif\u001b[0m \u001b[0mtype\u001b[0m\u001b[0;34m(\u001b[0m\u001b[0ma\u001b[0m\u001b[0;34m)\u001b[0m \u001b[0;32mnot\u001b[0m \u001b[0;32min\u001b[0m \u001b[0mtypes\u001b[0m\u001b[0;34m:\u001b[0m \u001b[0ma\u001b[0m \u001b[0;34m=\u001b[0m \u001b[0mctx\u001b[0m\u001b[0;34m.\u001b[0m\u001b[0mconvert\u001b[0m\u001b[0;34m(\u001b[0m\u001b[0ma\u001b[0m\u001b[0;34m)\u001b[0m\u001b[0;34m\u001b[0m\u001b[0;34m\u001b[0m\u001b[0m\n\u001b[0;32m--> 946\u001b[0;31m             \u001b[0;32mif\u001b[0m \u001b[0mtype\u001b[0m\u001b[0;34m(\u001b[0m\u001b[0mb\u001b[0m\u001b[0;34m)\u001b[0m \u001b[0;32mnot\u001b[0m \u001b[0;32min\u001b[0m \u001b[0mtypes\u001b[0m\u001b[0;34m:\u001b[0m \u001b[0mb\u001b[0m \u001b[0;34m=\u001b[0m \u001b[0mctx\u001b[0m\u001b[0;34m.\u001b[0m\u001b[0mconvert\u001b[0m\u001b[0;34m(\u001b[0m\u001b[0mb\u001b[0m\u001b[0;34m)\u001b[0m\u001b[0;34m\u001b[0m\u001b[0;34m\u001b[0m\u001b[0m\n\u001b[0m\u001b[1;32m    947\u001b[0m             \u001b[0ma_real\u001b[0m \u001b[0;34m=\u001b[0m \u001b[0mhasattr_\u001b[0m\u001b[0;34m(\u001b[0m\u001b[0ma\u001b[0m\u001b[0;34m,\u001b[0m \u001b[0;34m\"_mpf_\"\u001b[0m\u001b[0;34m)\u001b[0m\u001b[0;34m\u001b[0m\u001b[0;34m\u001b[0m\u001b[0m\n\u001b[1;32m    948\u001b[0m             \u001b[0mb_real\u001b[0m \u001b[0;34m=\u001b[0m \u001b[0mhasattr_\u001b[0m\u001b[0;34m(\u001b[0m\u001b[0mb\u001b[0m\u001b[0;34m,\u001b[0m \u001b[0;34m\"_mpf_\"\u001b[0m\u001b[0;34m)\u001b[0m\u001b[0;34m\u001b[0m\u001b[0;34m\u001b[0m\u001b[0m\n",
      "\u001b[0;32m/Library/Frameworks/Python.framework/Versions/3.7/lib/python3.7/site-packages/mpmath/ctx_mp_python.py\u001b[0m in \u001b[0;36mconvert\u001b[0;34m(ctx, x, strings)\u001b[0m\n\u001b[1;32m    646\u001b[0m         \u001b[0;32mif\u001b[0m \u001b[0misinstance\u001b[0m\u001b[0;34m(\u001b[0m\u001b[0mx\u001b[0m\u001b[0;34m,\u001b[0m \u001b[0mcomplex\u001b[0m\u001b[0;34m)\u001b[0m\u001b[0;34m:\u001b[0m\u001b[0;34m\u001b[0m\u001b[0;34m\u001b[0m\u001b[0m\n\u001b[1;32m    647\u001b[0m             \u001b[0;32mreturn\u001b[0m \u001b[0mctx\u001b[0m\u001b[0;34m.\u001b[0m\u001b[0mmake_mpc\u001b[0m\u001b[0;34m(\u001b[0m\u001b[0;34m(\u001b[0m\u001b[0mfrom_float\u001b[0m\u001b[0;34m(\u001b[0m\u001b[0mx\u001b[0m\u001b[0;34m.\u001b[0m\u001b[0mreal\u001b[0m\u001b[0;34m)\u001b[0m\u001b[0;34m,\u001b[0m \u001b[0mfrom_float\u001b[0m\u001b[0;34m(\u001b[0m\u001b[0mx\u001b[0m\u001b[0;34m.\u001b[0m\u001b[0mimag\u001b[0m\u001b[0;34m)\u001b[0m\u001b[0;34m)\u001b[0m\u001b[0;34m)\u001b[0m\u001b[0;34m\u001b[0m\u001b[0;34m\u001b[0m\u001b[0m\n\u001b[0;32m--> 648\u001b[0;31m         \u001b[0;32mif\u001b[0m \u001b[0mtype\u001b[0m\u001b[0;34m(\u001b[0m\u001b[0mx\u001b[0m\u001b[0;34m)\u001b[0m\u001b[0;34m.\u001b[0m\u001b[0m__module__\u001b[0m \u001b[0;34m==\u001b[0m \u001b[0;34m'numpy'\u001b[0m\u001b[0;34m:\u001b[0m \u001b[0;32mreturn\u001b[0m \u001b[0mctx\u001b[0m\u001b[0;34m.\u001b[0m\u001b[0mnpconvert\u001b[0m\u001b[0;34m(\u001b[0m\u001b[0mx\u001b[0m\u001b[0;34m)\u001b[0m\u001b[0;34m\u001b[0m\u001b[0;34m\u001b[0m\u001b[0m\n\u001b[0m\u001b[1;32m    649\u001b[0m         \u001b[0;32mif\u001b[0m \u001b[0misinstance\u001b[0m\u001b[0;34m(\u001b[0m\u001b[0mx\u001b[0m\u001b[0;34m,\u001b[0m \u001b[0mnumbers\u001b[0m\u001b[0;34m.\u001b[0m\u001b[0mRational\u001b[0m\u001b[0;34m)\u001b[0m\u001b[0;34m:\u001b[0m \u001b[0;31m# e.g. Fraction\u001b[0m\u001b[0;34m\u001b[0m\u001b[0;34m\u001b[0m\u001b[0m\n\u001b[1;32m    650\u001b[0m             \u001b[0;32mtry\u001b[0m\u001b[0;34m:\u001b[0m \u001b[0mx\u001b[0m \u001b[0;34m=\u001b[0m \u001b[0mrational\u001b[0m\u001b[0;34m.\u001b[0m\u001b[0mmpq\u001b[0m\u001b[0;34m(\u001b[0m\u001b[0mint\u001b[0m\u001b[0;34m(\u001b[0m\u001b[0mx\u001b[0m\u001b[0;34m.\u001b[0m\u001b[0mnumerator\u001b[0m\u001b[0;34m)\u001b[0m\u001b[0;34m,\u001b[0m \u001b[0mint\u001b[0m\u001b[0;34m(\u001b[0m\u001b[0mx\u001b[0m\u001b[0;34m.\u001b[0m\u001b[0mdenominator\u001b[0m\u001b[0;34m)\u001b[0m\u001b[0;34m)\u001b[0m\u001b[0;34m\u001b[0m\u001b[0;34m\u001b[0m\u001b[0m\n",
      "\u001b[0;32m/Library/Frameworks/Python.framework/Versions/3.7/lib/python3.7/site-packages/mpmath/ctx_mp_python.py\u001b[0m in \u001b[0;36mnpconvert\u001b[0;34m(ctx, x)\u001b[0m\n\u001b[1;32m    679\u001b[0m         \u001b[0;32mif\u001b[0m \u001b[0misinstance\u001b[0m\u001b[0;34m(\u001b[0m\u001b[0mx\u001b[0m\u001b[0;34m,\u001b[0m \u001b[0mnp\u001b[0m\u001b[0;34m.\u001b[0m\u001b[0mcomplexfloating\u001b[0m\u001b[0;34m)\u001b[0m\u001b[0;34m:\u001b[0m\u001b[0;34m\u001b[0m\u001b[0;34m\u001b[0m\u001b[0m\n\u001b[1;32m    680\u001b[0m             \u001b[0;32mreturn\u001b[0m \u001b[0mctx\u001b[0m\u001b[0;34m.\u001b[0m\u001b[0mmake_mpc\u001b[0m\u001b[0;34m(\u001b[0m\u001b[0;34m(\u001b[0m\u001b[0mfrom_npfloat\u001b[0m\u001b[0;34m(\u001b[0m\u001b[0mx\u001b[0m\u001b[0;34m.\u001b[0m\u001b[0mreal\u001b[0m\u001b[0;34m)\u001b[0m\u001b[0;34m,\u001b[0m \u001b[0mfrom_npfloat\u001b[0m\u001b[0;34m(\u001b[0m\u001b[0mx\u001b[0m\u001b[0;34m.\u001b[0m\u001b[0mimag\u001b[0m\u001b[0;34m)\u001b[0m\u001b[0;34m)\u001b[0m\u001b[0;34m)\u001b[0m\u001b[0;34m\u001b[0m\u001b[0;34m\u001b[0m\u001b[0m\n\u001b[0;32m--> 681\u001b[0;31m         \u001b[0;32mraise\u001b[0m \u001b[0mTypeError\u001b[0m\u001b[0;34m(\u001b[0m\u001b[0;34m\"cannot create mpf from \"\u001b[0m \u001b[0;34m+\u001b[0m \u001b[0mrepr\u001b[0m\u001b[0;34m(\u001b[0m\u001b[0mx\u001b[0m\u001b[0;34m)\u001b[0m\u001b[0;34m)\u001b[0m\u001b[0;34m\u001b[0m\u001b[0;34m\u001b[0m\u001b[0m\n\u001b[0m\u001b[1;32m    682\u001b[0m \u001b[0;34m\u001b[0m\u001b[0m\n\u001b[1;32m    683\u001b[0m     \u001b[0;32mdef\u001b[0m \u001b[0misnan\u001b[0m\u001b[0;34m(\u001b[0m\u001b[0mctx\u001b[0m\u001b[0;34m,\u001b[0m \u001b[0mx\u001b[0m\u001b[0;34m)\u001b[0m\u001b[0;34m:\u001b[0m\u001b[0;34m\u001b[0m\u001b[0;34m\u001b[0m\u001b[0m\n",
      "\u001b[0;31mTypeError\u001b[0m: cannot create mpf from array(2.25)"
     ]
    }
   ],
   "source": [
    "mp.quad(f_formp, [1, 2])"
   ]
  },
  {
   "cell_type": "code",
   "execution_count": 291,
   "metadata": {},
   "outputs": [],
   "source": [
    "x = np.arange(1, 4, 0.1)\n",
    "y = x**2"
   ]
  },
  {
   "cell_type": "code",
   "execution_count": 283,
   "metadata": {},
   "outputs": [],
   "source": [
    "from scipy.signal import savgol_filter\n",
    "yy = savgol_filter(y, 7, 3, mode = 'nearest')"
   ]
  },
  {
   "cell_type": "code",
   "execution_count": 288,
   "metadata": {},
   "outputs": [
    {
     "data": {
      "text/plain": [
       "<matplotlib.legend.Legend at 0x131afe9d0>"
      ]
     },
     "execution_count": 288,
     "metadata": {},
     "output_type": "execute_result"
    },
    {
     "data": {
      "image/png": "[encoded data removed]",
      "text/plain": [
       "<Figure size 432x288 with 1 Axes>"
      ]
     },
     "metadata": {
      "needs_background": "light"
     },
     "output_type": "display_data"
    }
   ],
   "source": [
    "plt.plot(x, y, label = 'ns')\n",
    "for w in range(4):\n",
    "    yy = savgol_filter(y, 2*(w+1)+1, 2*w+1, mode = 'nearest')\n",
    "    plt.plot(x, yy, label = 's'+str(w))\n",
    "plt.legend()"
   ]
  },
  {
   "cell_type": "code",
   "execution_count": 309,
   "metadata": {},
   "outputs": [],
   "source": [
    "from scipy.signal import savgol_filter\n",
    "yy = savgol_filter(y, 7, 3, mode = 'nearest')\n",
    "pp = scipy.interpolate.interp1d(x, yy)"
   ]
  },
  {
   "cell_type": "code",
   "execution_count": 293,
   "metadata": {},
   "outputs": [],
   "source": [
    "p = scipy.interpolate.interp1d(x, y)"
   ]
  },
  {
   "cell_type": "code",
   "execution_count": 305,
   "metadata": {},
   "outputs": [
    {
     "data": {
      "text/plain": [
       "(6.335000000000003, 8.881784197001252e-15)"
      ]
     },
     "execution_count": 305,
     "metadata": {},
     "output_type": "execute_result"
    }
   ],
   "source": [
    "scipy.integrate.quad(p, 2, 3)"
   ]
  },
  {
   "cell_type": "code",
   "execution_count": 310,
   "metadata": {},
   "outputs": [
    {
     "data": {
      "text/plain": [
       "(6.334999999999999, 7.033262861000366e-15)"
      ]
     },
     "execution_count": 310,
     "metadata": {},
     "output_type": "execute_result"
    }
   ],
   "source": [
    "scipy.integrate.quad(pp, 2, 3)"
   ]
  },
  {
   "cell_type": "code",
   "execution_count": 306,
   "metadata": {},
   "outputs": [],
   "source": [
    "def g(x):\n",
    "    return x**2"
   ]
  },
  {
   "cell_type": "code",
   "execution_count": 307,
   "metadata": {},
   "outputs": [
    {
     "data": {
      "text/plain": [
       "(6.333333333333334, 7.031412489292659e-14)"
      ]
     },
     "execution_count": 307,
     "metadata": {},
     "output_type": "execute_result"
    }
   ],
   "source": [
    "scipy.integrate.quad(g, 2, 3)"
   ]
  },
  {
   "cell_type": "code",
   "execution_count": 308,
   "metadata": {},
   "outputs": [
    {
     "data": {
      "text/plain": [
       "mpf('6.33333333333333333333333333333333333333333333333333333333333333333333333333333333333333333333333333333333333333333333333333333333333333333333333333333333333333333333333333333333333333333333333333333333333333333333333333333333333333333333333333333333333333333333333333333333333333333333333333333333333358')"
      ]
     },
     "execution_count": 308,
     "metadata": {},
     "output_type": "execute_result"
    }
   ],
   "source": [
    "mp.quad(g, [2, 3])"
   ]
  },
  {
   "cell_type": "code",
   "execution_count": 311,
   "metadata": {},
   "outputs": [],
   "source": [
    "def f(x):\n",
    "    x = float(x)\n",
    "    y = pp(x)\n",
    "    return mp.mpf(1)*y"
   ]
  },
  {
   "cell_type": "code",
   "execution_count": 303,
   "metadata": {},
   "outputs": [
    {
     "data": {
      "text/plain": [
       "mpf('4.0')"
      ]
     },
     "execution_count": 303,
     "metadata": {},
     "output_type": "execute_result"
    }
   ],
   "source": [
    "f(mp.mpf(2))"
   ]
  },
  {
   "cell_type": "code",
   "execution_count": 304,
   "metadata": {
    "scrolled": true
   },
   "outputs": [
    {
     "data": {
      "text/plain": [
       "mpf('6.33499999943510054262234961083679892300261873117938781180806649544043351042102344937338525068023257328369075605683425123076834666332078202964380315684661106818300742657197737353372046117714654294310282533676058813033629984548124722867856303922912752702125273252663989232382420433836985156337677734608992')"
      ]
     },
     "execution_count": 304,
     "metadata": {},
     "output_type": "execute_result"
    }
   ],
   "source": [
    "mp.quad(f, [2, 3])"
   ]
  },
  {
   "cell_type": "code",
   "execution_count": null,
   "metadata": {},
   "outputs": [],
   "source": [
    "mp.quad(f, [2, 3])"
   ]
  },
  {
   "cell_type": "code",
   "execution_count": null,
   "metadata": {},
   "outputs": [],
   "source": []
  }
 ],
 "metadata": {
  "kernelspec": {
   "display_name": "Python 3",
   "language": "python",
   "name": "python3"
  },
  "language_info": {
   "codemirror_mode": {
    "name": "ipython",
    "version": 3
   },
   "file_extension": ".py",
   "mimetype": "text/x-python",
   "name": "python",
   "nbconvert_exporter": "python",
   "pygments_lexer": "ipython3",
   "version": "3.7.4"
  }
 },
 "nbformat": 4,
 "nbformat_minor": 2
}
