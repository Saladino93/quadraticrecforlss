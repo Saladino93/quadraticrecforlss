{
 "cells": [
  {
   "cell_type": "code",
   "execution_count": 1,
   "metadata": {},
   "outputs": [],
   "source": [
    "from quadforlss import forecasting\n",
    "\n",
    "import yaml\n",
    "\n",
    "import pickle\n",
    "\n",
    "import sys\n",
    "\n",
    "import sympy as sp\n",
    "\n",
    "import numpy as np\n",
    "\n",
    "import itertools"
   ]
  },
  {
   "cell_type": "code",
   "execution_count": 2,
   "metadata": {},
   "outputs": [],
   "source": [
    "values_file = 'configurationfiles/01022020.yaml'"
   ]
  },
  {
   "cell_type": "code",
   "execution_count": 3,
   "metadata": {},
   "outputs": [],
   "source": [
    "with open(values_file, 'r') as stream:\n",
    "    data = yaml.safe_load(stream)\n",
    "\n",
    "values = data\n",
    "\n",
    "\n",
    "direc = values['name']\n",
    "base_dir = values['file_config']['base_dir']\n",
    "data_dir = values['file_config']['data_dir']\n",
    "pics_dir = values['file_config']['pics_dir']\n",
    "dic_name = values['file_config']['dic_name']\n",
    "\n",
    "direc = base_dir+direc+'/'\n",
    "\n",
    "with open(direc+data_dir+dic_name, 'rb') as handle:\n",
    "    dic = pickle.load(handle, encoding = 'latin1')\n",
    "\n",
    "\n",
    "config = values['forecast_config']\n",
    "\n",
    "variables_list= config['variables_list']\n",
    "variables_list_fisher = config['variables_list_fisher']\n",
    "cov_dict = config['cov_dict']\n",
    "\n",
    "variables_of_interest = config['variables_of_interest']\n",
    "\n",
    "analysis_config = values['analysis_config']\n",
    "biases_definitions = analysis_config['biases_definitions']\n",
    "noise_prefix = analysis_config['noise_prefix']\n",
    "new_bias_expr = analysis_config['new_bias_expr']\n",
    "\n",
    "pics_config = config['pics_config']\n",
    "for key, val in pics_config.items():\n",
    "    exec(key + '=val')\n",
    "       \n",
    "dic['fnl'] = 0.\n",
    "terms = biases_definitions.keys()\n",
    "combs = list(itertools.combinations_with_replacement(list(terms), 2))\n",
    "\n",
    "Noisedic = {}\n",
    "\n",
    "#LOAD VARIABLES VALUES\n",
    "for a, b in combs:\n",
    "    Noisedic[noise_prefix+a+b] = dic[noise_prefix+a+b]\n",
    "    Noisedic[noise_prefix+b+a] = dic[noise_prefix+a+b]\n",
    "\n",
    "K = dic['K']\n",
    "\n",
    "var_values = {}\n",
    "\n",
    "for vv in variables_list:\n",
    "    var_values[vv] = dic[vv]\n",
    "\n",
    "###### FORECAST ######\n",
    "\n",
    "forecast = forecasting.Forecaster(K, *variables_list)\n",
    "\n",
    "#NOTE#maybe just use ns of forecast\n",
    "\n",
    "'''\n",
    "#Here define basic variables, converting them to sympy variables\n",
    "for v in variables_list:\n",
    "     exec(v+'=0')\n",
    "     globals()[v] = sp.symbols(v)\n",
    "     ns[v] = globals()[v]\n",
    "'''    \n",
    "\n",
    "#here take biases definitions and convert them to sympy\n",
    "for x in terms:\n",
    "    exec(x+'=0')\n",
    "    globals()[x] = sp.sympify(biases_definitions[x], locals = forecast.ns)\n",
    "    forecast.ns[x] = globals()[x]\n",
    "   \n",
    "\n",
    "#for y in terms:\n",
    "#    print(y)\n",
    "#    print(globals()[y])     \n",
    "\n",
    "#define noise variables\n",
    "for x, y in combs:\n",
    "    exec(noise_prefix+x+y+'=0')\n",
    "    globals()[noise_prefix+x+y] = sp.symbols(noise_prefix+x+y)\n",
    "    exec(noise_prefix+y+x+'=0')\n",
    "    globals()[noise_prefix+y+x] = sp.symbols(noise_prefix+y+x)     \n",
    "    \n",
    "    forecast.ns[noise_prefix+x+y] = globals()[noise_prefix+x+y]\n",
    "    forecast.ns[noise_prefix+y+x] = globals()[noise_prefix+y+x] \n",
    "\n",
    "    #forecast.vars += [globals()[noise_prefix+x+y]]\n",
    "    #if x != y:\n",
    "    #    forecast.vars += [globals()[noise_prefix+y+x]]\n",
    "\n",
    "numpify =  True\n",
    "\n",
    "#forecast = forecasting.Forecaster(*variables_list)\n",
    "\n",
    "#here take new bias of the reconstructed field\n",
    "forecast.new_bias = sp.sympify(new_bias_expr, locals = forecast.ns)\n",
    "forecast.ns['new_bias'] = sp.sympify(new_bias_expr, locals = forecast.ns)\n",
    "\n",
    "#var_values['new_bias'] = \n",
    "\n",
    "forecast.add_cov_matrix(cov_dict)\n",
    "forecast.plot_cov(var_values, legend = legend_cov, title = title_cov, xlabel = xlabel_cov, ylabel = ylabel_cov, output_name = direc+pics_dir+output_name_cov+'.png')"
   ]
  },
  {
   "cell_type": "code",
   "execution_count": 124,
   "metadata": {},
   "outputs": [
    {
     "name": "stdout",
     "output_type": "stream",
     "text": [
      "Using parameters list: ['b10', 'fnl', 'b20', 'bs2']\n",
      "Calculating fisher matrix\n"
     ]
    }
   ],
   "source": [
    "#del forecast.ns['new_bias']\n",
    "#var_values['new_bias'] = 10000\n",
    "\n",
    "##TO CHECK: no dependence on new_bias var\n",
    "numpify = True\n",
    "forecast.get_fisher_matrix(variables_list_fisher, numpify = numpify, var_values = var_values)"
   ]
  },
  {
   "cell_type": "code",
   "execution_count": 274,
   "metadata": {},
   "outputs": [],
   "source": [
    "b = np.array([[8.42480818e+00, 8.77083586e-04, 6.55342619e+00, 5.58446078e-01],\n",
    " [8.77083586e-04, 4.64692927e-07, 1.47325443e-04, 1.25542447e-05],\n",
    " [6.55342619e+00, 1.47325443e-04, 5.86411359e+00, 4.99706740e-01],\n",
    " [5.58446078e-01, 1.25542447e-05, 4.99706740e-01, 4.25821946e-02]])\n",
    "\n",
    "bb = np.array([[7.07039818e-01, 4.19055738e-02, 2.09867503e-01, 1.98856888e-02],\n",
    " [4.19055738e-02, 3.61395433e-03, 9.99596758e-04, 9.47153310e-05],\n",
    " [2.09867503e-01, 9.99596758e-04, 1.78066423e-01, 1.68724239e-02],\n",
    " [1.98856888e-02, 9.47153310e-05, 1.68724239e-02, 1.59872188e-03]])"
   ]
  },
  {
   "cell_type": "code",
   "execution_count": 178,
   "metadata": {},
   "outputs": [
    {
     "data": {
      "text/plain": [
       "-2.8334187340554226e-25"
      ]
     },
     "execution_count": 178,
     "metadata": {},
     "output_type": "execute_result"
    }
   ],
   "source": [
    "np.linalg.det(b)"
   ]
  },
  {
   "cell_type": "code",
   "execution_count": 70,
   "metadata": {},
   "outputs": [
    {
     "data": {
      "text/plain": [
       "0.0016242860667835483"
      ]
     },
     "execution_count": 70,
     "metadata": {},
     "output_type": "execute_result"
    }
   ],
   "source": [
    "np.max(abs(np.dot(np.linalg.inv(b), b)-np.eye(4, 4)))"
   ]
  },
  {
   "cell_type": "code",
   "execution_count": 71,
   "metadata": {},
   "outputs": [],
   "source": [
    "import scipy"
   ]
  },
  {
   "cell_type": "code",
   "execution_count": 196,
   "metadata": {},
   "outputs": [],
   "source": [
    "U, S, V = scipy.linalg.svd(b)"
   ]
  },
  {
   "cell_type": "code",
   "execution_count": 197,
   "metadata": {},
   "outputs": [],
   "source": [
    "S = np.diag(S)"
   ]
  },
  {
   "cell_type": "code",
   "execution_count": 198,
   "metadata": {},
   "outputs": [
    {
     "data": {
      "text/plain": [
       "array([[8.42480818e+00, 8.77083586e-04, 6.55342619e+00, 5.58446078e-01],\n",
       "       [8.77083586e-04, 4.64692927e-07, 1.47325443e-04, 1.25542447e-05],\n",
       "       [6.55342619e+00, 1.47325443e-04, 5.86411359e+00, 4.99706740e-01],\n",
       "       [5.58446078e-01, 1.25542447e-05, 4.99706740e-01, 4.25821946e-02]])"
      ]
     },
     "execution_count": 198,
     "metadata": {},
     "output_type": "execute_result"
    }
   ],
   "source": [
    "U@S@V"
   ]
  },
  {
   "cell_type": "code",
   "execution_count": 199,
   "metadata": {},
   "outputs": [
    {
     "data": {
      "text/plain": [
       "array([[ 9.99868836e-01,  2.02416359e-01,  6.77308741e-04,\n",
       "        -6.29314692e-03],\n",
       "       [-2.14505927e-08,  1.00003314e+00,  1.10836834e-07,\n",
       "        -1.02879555e-06],\n",
       "       [-9.77283211e-05,  1.51260065e-01,  1.00050442e+00,\n",
       "        -4.68875475e-03],\n",
       "       [-7.90373651e-06,  1.21923275e-02,  4.07429994e-05,\n",
       "         9.99621397e-01]])"
      ]
     },
     "execution_count": 199,
     "metadata": {},
     "output_type": "execute_result"
    }
   ],
   "source": [
    "b@((scipy.linalg.inv(V))@(Sinv@Uinv))"
   ]
  },
  {
   "cell_type": "code",
   "execution_count": 200,
   "metadata": {},
   "outputs": [],
   "source": [
    "Uinv, Sinv, Vinv = scipy.linalg.inv(U), scipy.linalg.inv(S), scipy.linalg.inv(V)"
   ]
  },
  {
   "cell_type": "code",
   "execution_count": 201,
   "metadata": {},
   "outputs": [
    {
     "data": {
      "text/plain": [
       "array([[ 9.99998905e-01, -2.07766769e-08,  2.52875538e-06,\n",
       "         1.95991749e-07],\n",
       "       [ 1.62010517e-03,  1.00003210e+00, -3.86703053e-03,\n",
       "        -3.24554545e-04],\n",
       "       [ 6.83277742e-06,  6.33977926e-08,  9.99988475e-01,\n",
       "        -1.01795715e-06],\n",
       "       [-6.41921958e-05, -4.81273662e-07,  1.10136645e-04,\n",
       "         1.00000946e+00]])"
      ]
     },
     "execution_count": 201,
     "metadata": {},
     "output_type": "execute_result"
    }
   ],
   "source": [
    "(Vinv@Sinv@Uinv)@b"
   ]
  },
  {
   "cell_type": "code",
   "execution_count": 202,
   "metadata": {},
   "outputs": [
    {
     "data": {
      "text/plain": [
       "array([[-7.23326854e+07,  1.11786684e+11,  3.73916349e+08,\n",
       "        -3.47229667e+09],\n",
       "       [ 1.11786684e+11, -1.72760938e+14, -5.77869721e+11,\n",
       "         5.36626739e+12],\n",
       "       [ 3.73911470e+08, -5.77862182e+11, -9.75067542e+08,\n",
       "         6.70921390e+09],\n",
       "       [-3.47223942e+09,  5.36617892e+12,  6.70915215e+09,\n",
       "        -3.47778783e+10]])"
      ]
     },
     "execution_count": 202,
     "metadata": {},
     "output_type": "execute_result"
    }
   ],
   "source": [
    "(Vinv@Sinv@Uinv)"
   ]
  },
  {
   "cell_type": "code",
   "execution_count": 203,
   "metadata": {},
   "outputs": [
    {
     "data": {
      "text/plain": [
       "array([[ 9.99999025e-01, -5.39523935e-11, -8.81848780e-07,\n",
       "        -6.60751893e-08],\n",
       "       [ 1.62428607e-03,  1.00000003e+00,  1.47318903e-03,\n",
       "         1.19207429e-04],\n",
       "       [ 2.12728813e-07,  1.14921292e-10,  1.00000029e+00,\n",
       "         5.74409506e-08],\n",
       "       [ 2.53734755e-06, -4.73856538e-10,  5.95524460e-06,\n",
       "         1.00000020e+00]])"
      ]
     },
     "execution_count": 203,
     "metadata": {},
     "output_type": "execute_result"
    }
   ],
   "source": [
    "np.linalg.inv(b)@b"
   ]
  },
  {
   "cell_type": "code",
   "execution_count": 204,
   "metadata": {},
   "outputs": [
    {
     "data": {
      "text/plain": [
       "array([[-7.23306336e+07,  1.11783513e+11,  3.73905770e+08,\n",
       "        -3.47219850e+09],\n",
       "       [ 1.11783513e+11, -1.72756038e+14, -5.77853372e+11,\n",
       "         5.36611567e+12],\n",
       "       [ 3.73905754e+08, -5.77853348e+11, -9.75038169e+08,\n",
       "         6.70894156e+09],\n",
       "       [-3.47219832e+09,  5.36611539e+12,  6.70894137e+09,\n",
       "        -3.47759251e+10]])"
      ]
     },
     "execution_count": 204,
     "metadata": {},
     "output_type": "execute_result"
    }
   ],
   "source": [
    "scipy.linalg.inv(b)"
   ]
  },
  {
   "cell_type": "code",
   "execution_count": 205,
   "metadata": {},
   "outputs": [
    {
     "data": {
      "text/plain": [
       "array([[ 9.99999679e-01,  1.42678591e-04,  8.64006885e-07,\n",
       "        -5.09204698e-06],\n",
       "       [ 1.90485527e-11,  1.00000003e+00,  4.23979811e-11,\n",
       "        -4.73856538e-10],\n",
       "       [-1.44563303e-07,  2.69935946e-04,  1.00000058e+00,\n",
       "        -1.67414993e-06],\n",
       "       [-3.43337428e-08,  2.59396600e-05,  8.17410786e-08,\n",
       "         9.99999722e-01]])"
      ]
     },
     "execution_count": 205,
     "metadata": {},
     "output_type": "execute_result"
    }
   ],
   "source": [
    "b@scipy.linalg.inv(b)"
   ]
  },
  {
   "cell_type": "code",
   "execution_count": 206,
   "metadata": {},
   "outputs": [
    {
     "data": {
      "text/plain": [
       "array([[ 1.00000025e+00, -1.15862750e-11,  3.10104278e-07,\n",
       "         1.38342281e-08],\n",
       "       [ 1.02366069e-04,  1.00000011e+00,  8.63166387e-06,\n",
       "         1.65880987e-05],\n",
       "       [-3.19846868e-07,  1.02948631e-10,  9.99999811e-01,\n",
       "         1.68314053e-08],\n",
       "       [-5.09204698e-06, -9.39517825e-10, -1.67414993e-06,\n",
       "         9.99999722e-01]])"
      ]
     },
     "execution_count": 206,
     "metadata": {},
     "output_type": "execute_result"
    }
   ],
   "source": [
    "scipy.linalg.inv(b)@b"
   ]
  },
  {
   "cell_type": "code",
   "execution_count": 207,
   "metadata": {},
   "outputs": [
    {
     "data": {
      "text/plain": [
       "array([[ 9.99999582e-01,  6.46429727e-04,  2.16094884e-06,\n",
       "        -2.00635068e-05],\n",
       "       [ 6.46540985e-04,  9.73980378e-04, -3.33946536e-03,\n",
       "         3.10072052e-02],\n",
       "       [ 1.17783691e-06, -3.33961819e-03,  9.99988306e-01,\n",
       "         1.03561176e-04],\n",
       "       [-1.39556006e-05,  3.10076924e-02,  1.06307355e-04,\n",
       "         9.99037696e-01]])"
      ]
     },
     "execution_count": 207,
     "metadata": {},
     "output_type": "execute_result"
    }
   ],
   "source": [
    "np.linalg.pinv(b)@b"
   ]
  },
  {
   "cell_type": "code",
   "execution_count": 208,
   "metadata": {},
   "outputs": [
    {
     "data": {
      "text/plain": [
       "array([[-7.23306336e+07,  1.11783513e+11,  3.73905770e+08,\n",
       "        -3.47219850e+09],\n",
       "       [ 1.11783513e+11, -1.72756038e+14, -5.77853372e+11,\n",
       "         5.36611567e+12],\n",
       "       [ 3.73905754e+08, -5.77853348e+11, -9.75038169e+08,\n",
       "         6.70894156e+09],\n",
       "       [-3.47219832e+09,  5.36611539e+12,  6.70894137e+09,\n",
       "        -3.47759251e+10]])"
      ]
     },
     "execution_count": 208,
     "metadata": {},
     "output_type": "execute_result"
    }
   ],
   "source": [
    "np.linalg.inv(b)"
   ]
  },
  {
   "cell_type": "code",
   "execution_count": 214,
   "metadata": {},
   "outputs": [
    {
     "name": "stdout",
     "output_type": "stream",
     "text": [
      "1.084202172485504434e-19\n"
     ]
    }
   ],
   "source": [
    "print(np.finfo(np.longfloat).eps)"
   ]
  },
  {
   "cell_type": "code",
   "execution_count": 209,
   "metadata": {},
   "outputs": [
    {
     "data": {
      "text/plain": [
       "array([[1.38623541e+01, 0.00000000e+00, 0.00000000e+00, 0.00000000e+00],\n",
       "       [0.00000000e+00, 4.69150329e-01, 0.00000000e+00, 0.00000000e+00],\n",
       "       [0.00000000e+00, 0.00000000e+00, 7.53387643e-12, 0.00000000e+00],\n",
       "       [0.00000000e+00, 0.00000000e+00, 0.00000000e+00, 5.78270345e-15]])"
      ]
     },
     "execution_count": 209,
     "metadata": {},
     "output_type": "execute_result"
    }
   ],
   "source": [
    "S"
   ]
  },
  {
   "cell_type": "code",
   "execution_count": 215,
   "metadata": {},
   "outputs": [],
   "source": [
    "bdagger = V@S@U.T"
   ]
  },
  {
   "cell_type": "code",
   "execution_count": 89,
   "metadata": {},
   "outputs": [],
   "source": [
    "import mpmath as mp"
   ]
  },
  {
   "cell_type": "code",
   "execution_count": 102,
   "metadata": {},
   "outputs": [],
   "source": [
    "mp.dps = 100"
   ]
  },
  {
   "cell_type": "code",
   "execution_count": 117,
   "metadata": {},
   "outputs": [],
   "source": [
    "m = mp.matrix(b)"
   ]
  },
  {
   "cell_type": "code",
   "execution_count": 118,
   "metadata": {},
   "outputs": [
    {
     "data": {
      "text/plain": [
       "matrix(\n",
       "[['0.999999999936758', '-4.2999452586339e-12', '1.03314007974792e-11', '-2.5946961756011e-13'],\n",
       " ['4.49066101777354e-10', '1.00000000003321', '-1.98946820376327e-10', '-4.87299111200083e-12'],\n",
       " ['4.65112897258947e-11', '9.91356251498142e-13', '0.999999999996928', '-2.88695539688209e-12'],\n",
       " ['-5.09931257297154e-10', '-5.02218453849293e-12', '-3.16566162369049e-10', '1.00000000001198']])"
      ]
     },
     "execution_count": 118,
     "metadata": {},
     "output_type": "execute_result"
    }
   ],
   "source": [
    "(m**-1*m)"
   ]
  },
  {
   "cell_type": "code",
   "execution_count": 119,
   "metadata": {},
   "outputs": [
    {
     "data": {
      "text/plain": [
       "matrix(\n",
       "[['0.99999999993161', '3.5746780090533e-10', '2.95532714918757e-11', '4.51075585985921e-11'],\n",
       " ['-1.11189061953904e-12', '0.999999999996516', '-4.48497662073712e-13', '-1.42302088838401e-13'],\n",
       " ['-2.61756399023146e-11', '8.60887194251558e-11', '1.00000000002914', '-2.19365354206224e-10'],\n",
       " ['-2.1527781316485e-12', '4.46120222161016e-12', '-1.62021639055587e-12', '1.0000000000216']])"
      ]
     },
     "execution_count": 119,
     "metadata": {},
     "output_type": "execute_result"
    }
   ],
   "source": [
    "(m*m**-1)"
   ]
  },
  {
   "cell_type": "code",
   "execution_count": 120,
   "metadata": {},
   "outputs": [
    {
     "data": {
      "text/plain": [
       "array([[ 9.99999921e-01, -3.61159857e-09, -1.57685196e-08,\n",
       "        -1.66644047e-09],\n",
       "       [ 5.70752637e-07,  1.00000004e+00,  2.74395331e-07,\n",
       "         2.26807683e-08],\n",
       "       [ 7.71935321e-08,  2.93907202e-09,  1.00000002e+00,\n",
       "         2.06469480e-09],\n",
       "       [-2.82386564e-07,  1.09806344e-08, -7.06923237e-08,\n",
       "         9.99999994e-01]])"
      ]
     },
     "execution_count": 120,
     "metadata": {},
     "output_type": "execute_result"
    }
   ],
   "source": [
    "np.linalg.inv(b)@b"
   ]
  },
  {
   "cell_type": "code",
   "execution_count": 121,
   "metadata": {},
   "outputs": [
    {
     "data": {
      "text/plain": [
       "mpf('0.70703981800000004')"
      ]
     },
     "execution_count": 121,
     "metadata": {},
     "output_type": "execute_result"
    }
   ],
   "source": [
    "max(m)"
   ]
  },
  {
   "cell_type": "code",
   "execution_count": 122,
   "metadata": {},
   "outputs": [
    {
     "data": {
      "text/plain": [
       "array([[7.07039818e-01, 4.19055738e-02, 2.09867503e-01, 1.98856888e-02],\n",
       "       [4.19055738e-02, 3.61395433e-03, 9.99596758e-04, 9.47153310e-05],\n",
       "       [2.09867503e-01, 9.99596758e-04, 1.78066423e-01, 1.68724239e-02],\n",
       "       [1.98856888e-02, 9.47153310e-05, 1.68724239e-02, 1.59872188e-03]])"
      ]
     },
     "execution_count": 122,
     "metadata": {},
     "output_type": "execute_result"
    }
   ],
   "source": [
    "bb"
   ]
  },
  {
   "cell_type": "code",
   "execution_count": 132,
   "metadata": {},
   "outputs": [
    {
     "data": {
      "text/plain": [
       "-2.8334187340554226e-25"
      ]
     },
     "execution_count": 132,
     "metadata": {},
     "output_type": "execute_result"
    }
   ],
   "source": [
    "np.linalg.det(b)"
   ]
  },
  {
   "cell_type": "code",
   "execution_count": 134,
   "metadata": {},
   "outputs": [
    {
     "data": {
      "text/plain": [
       "-2.833418734055418e-25"
      ]
     },
     "execution_count": 134,
     "metadata": {},
     "output_type": "execute_result"
    }
   ],
   "source": [
    "scipy.linalg.det(b)"
   ]
  },
  {
   "cell_type": "code",
   "execution_count": 157,
   "metadata": {},
   "outputs": [],
   "source": [
    "\n",
    "def inv(A, epsilon=1.0):\n",
    "    Q,R = np.linalg.qr(A)\n",
    "    S = np.linalg.pinv(R)\n",
    "    #if abs(A.shape[0] - np.dot(np.diag(S), np.diag(R))) > epsilon:\n",
    "    #    return np.zeros(A.shape)\n",
    "    return np.dot(S,Q.T)"
   ]
  },
  {
   "cell_type": "code",
   "execution_count": 159,
   "metadata": {},
   "outputs": [
    {
     "data": {
      "text/plain": [
       "array([[ 9.99999582e-01,  6.46429716e-04,  2.16133564e-06,\n",
       "        -2.00638143e-05],\n",
       "       [ 6.46173844e-04,  9.73996387e-04, -3.33989250e-03,\n",
       "         3.10076783e-02],\n",
       "       [ 3.40217475e-06, -3.33961783e-03,  9.99989981e-01,\n",
       "         1.03675599e-04],\n",
       "       [-2.54110114e-05,  3.10076884e-02,  8.87396818e-05,\n",
       "         9.99037348e-01]])"
      ]
     },
     "execution_count": 159,
     "metadata": {},
     "output_type": "execute_result"
    }
   ],
   "source": [
    "inv(b)@b"
   ]
  },
  {
   "cell_type": "code",
   "execution_count": 179,
   "metadata": {},
   "outputs": [
    {
     "data": {
      "text/plain": [
       "dtype('float64')"
      ]
     },
     "execution_count": 179,
     "metadata": {},
     "output_type": "execute_result"
    }
   ],
   "source": [
    "b.dtype"
   ]
  },
  {
   "cell_type": "code",
   "execution_count": 180,
   "metadata": {},
   "outputs": [],
   "source": [
    "b = np.array([[8.42480818e+00, 8.77083586e-04, 6.55342619e+00, 5.58446078e-01],\n",
    " [8.77083586e-04, 4.64692927e-07, 1.47325443e-04, 1.25542447e-05],\n",
    " [6.55342619e+00, 1.47325443e-04, 5.86411359e+00, 4.99706740e-01],\n",
    " [5.58446078e-01, 1.25542447e-05, 4.99706740e-01, 4.25821946e-02]])"
   ]
  },
  {
   "cell_type": "code",
   "execution_count": 194,
   "metadata": {},
   "outputs": [
    {
     "data": {
      "text/plain": [
       "array([[8.42480818e+00, 8.77083586e-04, 6.55342619e+00, 5.58446078e-01],\n",
       "       [8.77083586e-04, 4.64692927e-07, 1.47325443e-04, 1.25542447e-05],\n",
       "       [6.55342619e+00, 1.47325443e-04, 5.86411359e+00, 4.99706740e-01],\n",
       "       [5.58446078e-01, 1.25542447e-05, 4.99706740e-01, 4.25821946e-02]])"
      ]
     },
     "execution_count": 194,
     "metadata": {},
     "output_type": "execute_result"
    }
   ],
   "source": [
    "b"
   ]
  },
  {
   "cell_type": "code",
   "execution_count": 195,
   "metadata": {},
   "outputs": [
    {
     "data": {
      "text/plain": [
       "array([[ 9.99999973e-01,  1.42678591e-04, -8.96674313e-08,\n",
       "        -1.27734972e-06],\n",
       "       [-3.44624051e-11,  9.99999996e-01,  2.78460658e-11,\n",
       "         1.08220071e-10],\n",
       "       [ 9.35756020e-08,  2.69935946e-04,  9.99999626e-01,\n",
       "        -1.67414993e-06],\n",
       "       [ 6.27580248e-09,  2.59396600e-05,  2.21364338e-08,\n",
       "         9.99999960e-01]])"
      ]
     },
     "execution_count": 195,
     "metadata": {},
     "output_type": "execute_result"
    }
   ],
   "source": [
    "b@np.linalg.inv(b)"
   ]
  },
  {
   "cell_type": "code",
   "execution_count": null,
   "metadata": {},
   "outputs": [],
   "source": [
    "U, S, V = scipy.linalg.svd(b)"
   ]
  },
  {
   "cell_type": "code",
   "execution_count": 220,
   "metadata": {},
   "outputs": [],
   "source": [
    "def transposeMatrix(m):\n",
    "    return map(list,zip(*m))\n",
    "\n",
    "def getMatrixMinor(m,i,j):\n",
    "    return [row[:j] + row[j+1:] for row in (m[:i]+m[i+1:])]\n",
    "\n",
    "def getMatrixDeternminant(m):\n",
    "    #base case for 2x2 matrix\n",
    "    if len(m) == 2:\n",
    "        return m[0][0]*m[1][1]-m[0][1]*m[1][0]\n",
    "\n",
    "    determinant = 0\n",
    "    for c in range(len(m)):\n",
    "        determinant += ((-1)**c)*m[0][c]*getMatrixDeternminant(getMatrixMinor(m,0,c))\n",
    "    return determinant\n",
    "\n",
    "def getMatrixInverse(m):\n",
    "    determinant = getMatrixDeternminant(m)\n",
    "    #special case for 2x2 matrix:\n",
    "    if len(m) == 2:\n",
    "        return [[m[1][1]/determinant, -1*m[0][1]/determinant],\n",
    "                [-1*m[1][0]/determinant, m[0][0]/determinant]]\n",
    "\n",
    "    #find matrix of cofactors\n",
    "    cofactors = []\n",
    "    for r in range(len(m)):\n",
    "        cofactorRow = []\n",
    "        for c in range(len(m)):\n",
    "            minor = getMatrixMinor(m,r,c)\n",
    "            cofactorRow.append(((-1)**(r+c)) * getMatrixDeternminant(minor))\n",
    "        cofactors.append(cofactorRow)\n",
    "    cofactors = transposeMatrix(cofactors)\n",
    "    for r in range(len(cofactors)):\n",
    "        for c in range(len(cofactors)):\n",
    "            cofactors[r][c] = cofactors[r][c]/determinant\n",
    "    return cofactors"
   ]
  },
  {
   "cell_type": "code",
   "execution_count": 227,
   "metadata": {},
   "outputs": [],
   "source": [
    "a1 = b[0, :]\n",
    "a2 = b[1, :]\n",
    "a3 = b[2, :]\n",
    "a4 = b[3, :]\n",
    "b = np.array([np.array(a1), np.array(a2), np.array(a3), np.array(a4)])"
   ]
  },
  {
   "cell_type": "code",
   "execution_count": 235,
   "metadata": {},
   "outputs": [
    {
     "data": {
      "text/plain": [
       "array([[-7.23306336e+07,  1.11783513e+11,  3.73905770e+08,\n",
       "        -3.47219850e+09],\n",
       "       [ 1.11783513e+11, -1.72756038e+14, -5.77853372e+11,\n",
       "         5.36611567e+12],\n",
       "       [ 3.73905754e+08, -5.77853348e+11, -9.75038169e+08,\n",
       "         6.70894156e+09],\n",
       "       [-3.47219832e+09,  5.36611539e+12,  6.70894137e+09,\n",
       "        -3.47759251e+10]])"
      ]
     },
     "execution_count": 235,
     "metadata": {},
     "output_type": "execute_result"
    }
   ],
   "source": [
    "np.linalg.inv(b)"
   ]
  },
  {
   "cell_type": "code",
   "execution_count": 234,
   "metadata": {},
   "outputs": [
    {
     "data": {
      "text/plain": [
       "array([[-7.23306336e+07,  1.11783513e+11,  3.73905770e+08,\n",
       "        -3.47219850e+09],\n",
       "       [ 1.11783513e+11, -1.72756038e+14, -5.77853372e+11,\n",
       "         5.36611567e+12],\n",
       "       [ 3.73905754e+08, -5.77853348e+11, -9.75038169e+08,\n",
       "         6.70894156e+09],\n",
       "       [-3.47219832e+09,  5.36611539e+12,  6.70894137e+09,\n",
       "        -3.47759251e+10]])"
      ]
     },
     "execution_count": 234,
     "metadata": {},
     "output_type": "execute_result"
    }
   ],
   "source": [
    "a = b.astype(np.longdouble)\n",
    "scipy.linalg.inv(a)"
   ]
  },
  {
   "cell_type": "code",
   "execution_count": 229,
   "metadata": {},
   "outputs": [
    {
     "ename": "ValueError",
     "evalue": "operands could not be broadcast together with shapes (0,4) (3,4) ",
     "output_type": "error",
     "traceback": [
      "\u001b[0;31m---------------------------------------------------------------------------\u001b[0m",
      "\u001b[0;31mValueError\u001b[0m                                Traceback (most recent call last)",
      "\u001b[0;32m<ipython-input-229-409d413e8edd>\u001b[0m in \u001b[0;36m<module>\u001b[0;34m\u001b[0m\n\u001b[0;32m----> 1\u001b[0;31m \u001b[0mgetMatrixInverse\u001b[0m\u001b[0;34m(\u001b[0m\u001b[0mb\u001b[0m\u001b[0;34m)\u001b[0m\u001b[0;34m\u001b[0m\u001b[0;34m\u001b[0m\u001b[0m\n\u001b[0m",
      "\u001b[0;32m<ipython-input-220-3bab252889b8>\u001b[0m in \u001b[0;36mgetMatrixInverse\u001b[0;34m(m)\u001b[0m\n\u001b[1;32m     16\u001b[0m \u001b[0;34m\u001b[0m\u001b[0m\n\u001b[1;32m     17\u001b[0m \u001b[0;32mdef\u001b[0m \u001b[0mgetMatrixInverse\u001b[0m\u001b[0;34m(\u001b[0m\u001b[0mm\u001b[0m\u001b[0;34m)\u001b[0m\u001b[0;34m:\u001b[0m\u001b[0;34m\u001b[0m\u001b[0;34m\u001b[0m\u001b[0m\n\u001b[0;32m---> 18\u001b[0;31m     \u001b[0mdeterminant\u001b[0m \u001b[0;34m=\u001b[0m \u001b[0mgetMatrixDeternminant\u001b[0m\u001b[0;34m(\u001b[0m\u001b[0mm\u001b[0m\u001b[0;34m)\u001b[0m\u001b[0;34m\u001b[0m\u001b[0;34m\u001b[0m\u001b[0m\n\u001b[0m\u001b[1;32m     19\u001b[0m     \u001b[0;31m#special case for 2x2 matrix:\u001b[0m\u001b[0;34m\u001b[0m\u001b[0;34m\u001b[0m\u001b[0;34m\u001b[0m\u001b[0m\n\u001b[1;32m     20\u001b[0m     \u001b[0;32mif\u001b[0m \u001b[0mlen\u001b[0m\u001b[0;34m(\u001b[0m\u001b[0mm\u001b[0m\u001b[0;34m)\u001b[0m \u001b[0;34m==\u001b[0m \u001b[0;36m2\u001b[0m\u001b[0;34m:\u001b[0m\u001b[0;34m\u001b[0m\u001b[0;34m\u001b[0m\u001b[0m\n",
      "\u001b[0;32m<ipython-input-220-3bab252889b8>\u001b[0m in \u001b[0;36mgetMatrixDeternminant\u001b[0;34m(m)\u001b[0m\n\u001b[1;32m     12\u001b[0m     \u001b[0mdeterminant\u001b[0m \u001b[0;34m=\u001b[0m \u001b[0;36m0\u001b[0m\u001b[0;34m\u001b[0m\u001b[0;34m\u001b[0m\u001b[0m\n\u001b[1;32m     13\u001b[0m     \u001b[0;32mfor\u001b[0m \u001b[0mc\u001b[0m \u001b[0;32min\u001b[0m \u001b[0mrange\u001b[0m\u001b[0;34m(\u001b[0m\u001b[0mlen\u001b[0m\u001b[0;34m(\u001b[0m\u001b[0mm\u001b[0m\u001b[0;34m)\u001b[0m\u001b[0;34m)\u001b[0m\u001b[0;34m:\u001b[0m\u001b[0;34m\u001b[0m\u001b[0;34m\u001b[0m\u001b[0m\n\u001b[0;32m---> 14\u001b[0;31m         \u001b[0mdeterminant\u001b[0m \u001b[0;34m+=\u001b[0m \u001b[0;34m(\u001b[0m\u001b[0;34m(\u001b[0m\u001b[0;34m-\u001b[0m\u001b[0;36m1\u001b[0m\u001b[0;34m)\u001b[0m\u001b[0;34m**\u001b[0m\u001b[0mc\u001b[0m\u001b[0;34m)\u001b[0m\u001b[0;34m*\u001b[0m\u001b[0mm\u001b[0m\u001b[0;34m[\u001b[0m\u001b[0;36m0\u001b[0m\u001b[0;34m]\u001b[0m\u001b[0;34m[\u001b[0m\u001b[0mc\u001b[0m\u001b[0;34m]\u001b[0m\u001b[0;34m*\u001b[0m\u001b[0mgetMatrixDeternminant\u001b[0m\u001b[0;34m(\u001b[0m\u001b[0mgetMatrixMinor\u001b[0m\u001b[0;34m(\u001b[0m\u001b[0mm\u001b[0m\u001b[0;34m,\u001b[0m\u001b[0;36m0\u001b[0m\u001b[0;34m,\u001b[0m\u001b[0mc\u001b[0m\u001b[0;34m)\u001b[0m\u001b[0;34m)\u001b[0m\u001b[0;34m\u001b[0m\u001b[0;34m\u001b[0m\u001b[0m\n\u001b[0m\u001b[1;32m     15\u001b[0m     \u001b[0;32mreturn\u001b[0m \u001b[0mdeterminant\u001b[0m\u001b[0;34m\u001b[0m\u001b[0;34m\u001b[0m\u001b[0m\n\u001b[1;32m     16\u001b[0m \u001b[0;34m\u001b[0m\u001b[0m\n",
      "\u001b[0;32m<ipython-input-220-3bab252889b8>\u001b[0m in \u001b[0;36mgetMatrixMinor\u001b[0;34m(m, i, j)\u001b[0m\n\u001b[1;32m      3\u001b[0m \u001b[0;34m\u001b[0m\u001b[0m\n\u001b[1;32m      4\u001b[0m \u001b[0;32mdef\u001b[0m \u001b[0mgetMatrixMinor\u001b[0m\u001b[0;34m(\u001b[0m\u001b[0mm\u001b[0m\u001b[0;34m,\u001b[0m\u001b[0mi\u001b[0m\u001b[0;34m,\u001b[0m\u001b[0mj\u001b[0m\u001b[0;34m)\u001b[0m\u001b[0;34m:\u001b[0m\u001b[0;34m\u001b[0m\u001b[0;34m\u001b[0m\u001b[0m\n\u001b[0;32m----> 5\u001b[0;31m     \u001b[0;32mreturn\u001b[0m \u001b[0;34m[\u001b[0m\u001b[0mrow\u001b[0m\u001b[0;34m[\u001b[0m\u001b[0;34m:\u001b[0m\u001b[0mj\u001b[0m\u001b[0;34m]\u001b[0m \u001b[0;34m+\u001b[0m \u001b[0mrow\u001b[0m\u001b[0;34m[\u001b[0m\u001b[0mj\u001b[0m\u001b[0;34m+\u001b[0m\u001b[0;36m1\u001b[0m\u001b[0;34m:\u001b[0m\u001b[0;34m]\u001b[0m \u001b[0;32mfor\u001b[0m \u001b[0mrow\u001b[0m \u001b[0;32min\u001b[0m \u001b[0;34m(\u001b[0m\u001b[0mm\u001b[0m\u001b[0;34m[\u001b[0m\u001b[0;34m:\u001b[0m\u001b[0mi\u001b[0m\u001b[0;34m]\u001b[0m\u001b[0;34m+\u001b[0m\u001b[0mm\u001b[0m\u001b[0;34m[\u001b[0m\u001b[0mi\u001b[0m\u001b[0;34m+\u001b[0m\u001b[0;36m1\u001b[0m\u001b[0;34m:\u001b[0m\u001b[0;34m]\u001b[0m\u001b[0;34m)\u001b[0m\u001b[0;34m]\u001b[0m\u001b[0;34m\u001b[0m\u001b[0;34m\u001b[0m\u001b[0m\n\u001b[0m\u001b[1;32m      6\u001b[0m \u001b[0;34m\u001b[0m\u001b[0m\n\u001b[1;32m      7\u001b[0m \u001b[0;32mdef\u001b[0m \u001b[0mgetMatrixDeternminant\u001b[0m\u001b[0;34m(\u001b[0m\u001b[0mm\u001b[0m\u001b[0;34m)\u001b[0m\u001b[0;34m:\u001b[0m\u001b[0;34m\u001b[0m\u001b[0;34m\u001b[0m\u001b[0m\n",
      "\u001b[0;31mValueError\u001b[0m: operands could not be broadcast together with shapes (0,4) (3,4) "
     ]
    }
   ],
   "source": [
    "getMatrixInverse(b)"
   ]
  },
  {
   "cell_type": "code",
   "execution_count": 262,
   "metadata": {
    "scrolled": true
   },
   "outputs": [
    {
     "name": "stdout",
     "output_type": "stream",
     "text": [
      "[   0.999999999998751  -3.94276959341128e-17  -3.76840320135937e-13  -8.21264212745429e-14]\n",
      "[ 1.16920189191082e-9       1.00000000000003   9.01597634670564e-10   9.50436618864119e-11]\n",
      "[1.73642320028831e-13   3.66627803388067e-17      0.999999999999992   4.41670385581687e-14]\n",
      "[5.46367293059774e-12  -3.20713779034839e-16  -2.57656458467317e-12      0.999999999999905]\n",
      "[[ 1.00017782e+00 -2.74812161e-01 -3.45004333e-04  1.79767844e-03]\n",
      " [ 1.15062570e-07  9.99822176e-01 -2.23244181e-07  1.16322871e-06]\n",
      " [ 3.95727490e-11 -1.68140009e-06  1.00000000e+00 -8.12757341e-09]\n",
      " [-6.28665837e-13 -1.54991567e-07  1.45749396e-10  1.00000000e+00]]\n"
     ]
    }
   ],
   "source": [
    "import mpmath\n",
    "mp.pretty = True\n",
    "\n",
    "bbm = mpmath.matrix(bb)\n",
    "print(bbm*bbm**-1)\n",
    "print(np.linalg.inv(bb)@bb)"
   ]
  },
  {
   "cell_type": "code",
   "execution_count": 269,
   "metadata": {},
   "outputs": [],
   "source": [
    "bbm = mpmath.fp.matrix(bb)"
   ]
  },
  {
   "cell_type": "code",
   "execution_count": 271,
   "metadata": {},
   "outputs": [
    {
     "data": {
      "text/plain": [
       "matrix(\n",
       "[['1.0000700345262885', '-0.10823535919189453', '-0.00031312741339206696', '0.0027880072593688965'],\n",
       " ['4.531563035925501e-08', '0.999929967103526', '-2.0260893052181927e-07', '1.8039936549030244e-06'],\n",
       " ['1.862645149230957e-09', '-2.86102294921875e-06', '0.9999999944120646', '7.450580596923828e-09'],\n",
       " ['0.0', '-1.1920928955078125e-07', '0.0', '1.0']])"
      ]
     },
     "execution_count": 271,
     "metadata": {},
     "output_type": "execute_result"
    }
   ],
   "source": [
    "mpmath.fp.inverse(bbm)*bbm"
   ]
  },
  {
   "cell_type": "code",
   "execution_count": 251,
   "metadata": {},
   "outputs": [
    {
     "data": {
      "text/plain": [
       "matrix(\n",
       "[['[-11164010.141568111256, 11164012.141568152234]', '[-17253441166.244464874, 17253441166.244400024]', '[-29325708.299278177321, 29325708.299278300256]', '[-202816228.69392749667, 202816228.69392555952]'],\n",
       " ['[-7223.7607347972898424, 7223.7607347973153082]', '[-11163973.064195133746, 11163975.06419509463]', '[-18975.428942709666444, 18975.42894270974648]', '[-131233.82721858084551, 131233.82721857959405]'],\n",
       " ['[-13.481255653314292431, 13.481255653314292431]', '[-20834.630880355834961, 20834.630880355834961]', '[-34.41266358271241188, 36.41266358457505703]', '[-244.91353467106819153, 244.91353466361761093]'],\n",
       " ['[-1.1487964916159398854, 1.1487964916741475463]', '[-1775.4096113443374634, 1775.4096113443374634]', '[-3.0176672508241608739, 3.0176672507077455521]', '[-19.870148643851280212, 21.870148641988635063]']])"
      ]
     },
     "execution_count": 251,
     "metadata": {},
     "output_type": "execute_result"
    }
   ],
   "source": [
    "bbm**-1 mpmath.iv.mul_accurately()"
   ]
  },
  {
   "cell_type": "code",
   "execution_count": 273,
   "metadata": {},
   "outputs": [
    {
     "data": {
      "text/plain": [
       "array([[8.42480818e+00, 8.77083586e-04, 6.55342619e+00, 5.58446078e-01],\n",
       "       [8.77083586e-04, 4.64692927e-07, 1.47325443e-04, 1.25542447e-05],\n",
       "       [6.55342619e+00, 1.47325443e-04, 5.86411359e+00, 4.99706740e-01],\n",
       "       [5.58446078e-01, 1.25542447e-05, 4.99706740e-01, 4.25821946e-02]])"
      ]
     },
     "execution_count": 273,
     "metadata": {},
     "output_type": "execute_result"
    }
   ],
   "source": [
    "b"
   ]
  },
  {
   "cell_type": "code",
   "execution_count": 275,
   "metadata": {},
   "outputs": [
    {
     "data": {
      "text/plain": [
       "array([[7.07039818e-01, 4.19055738e-02, 2.09867503e-01, 1.98856888e-02],\n",
       "       [4.19055738e-02, 3.61395433e-03, 9.99596758e-04, 9.47153310e-05],\n",
       "       [2.09867503e-01, 9.99596758e-04, 1.78066423e-01, 1.68724239e-02],\n",
       "       [1.98856888e-02, 9.47153310e-05, 1.68724239e-02, 1.59872188e-03]])"
      ]
     },
     "execution_count": 275,
     "metadata": {},
     "output_type": "execute_result"
    }
   ],
   "source": [
    "bb"
   ]
  },
  {
   "cell_type": "code",
   "execution_count": 315,
   "metadata": {},
   "outputs": [],
   "source": [
    "l = [[ 0.707039817527026,    0.0419055738162316,     0.209867503392626,    0.019885688789786],\n",
    "[0.0419055738162316,   0.00361395432532609,  0.000999596758076847,  9.47153309829369e-5],\n",
    "[ 0.209867503392626,  0.000999596758076847,     0.178066422916574,   0.0168724238521334],\n",
    "[ 0.019885688789786,   9.47153309829369e-5,    0.0168724238521334,  0.00159872188132522]]\n",
    "bb =  mpmath.matrix(l)"
   ]
  },
  {
   "cell_type": "code",
   "execution_count": 287,
   "metadata": {},
   "outputs": [
    {
     "data": {
      "text/plain": [
       "array([[ 0.94247581, -0.00199285, -0.00460223, -0.00547733],\n",
       "       [-0.97891718,  0.94497046,  0.11314472,  0.03651753],\n",
       "       [ 0.01436303,  0.00137414,  1.02003215,  0.00327404],\n",
       "       [ 0.19610112, -0.01635139,  0.01941797,  1.0253276 ]])"
      ]
     },
     "execution_count": 287,
     "metadata": {},
     "output_type": "execute_result"
    }
   ],
   "source": [
    "bn = np.array(l)\n",
    "np.linalg.inv(bn)@bn"
   ]
  },
  {
   "cell_type": "code",
   "execution_count": 297,
   "metadata": {},
   "outputs": [],
   "source": [
    "import sympy as sp"
   ]
  },
  {
   "cell_type": "code",
   "execution_count": 302,
   "metadata": {},
   "outputs": [],
   "source": [
    "s = sp.Matrix(bn)"
   ]
  },
  {
   "cell_type": "code",
   "execution_count": 307,
   "metadata": {},
   "outputs": [
    {
     "data": {
      "text/latex": [
       "$\\displaystyle \\left[\\begin{matrix}0.9375 & -0.003173828125 & 0 & -0.00390625\\\\0 & 0.9990234375 & -0.25 & 0.046875\\\\-0.09375 & -0.0067138671875 & 0.9765625 & 0\\\\2.5 & 0.080078125 & 0.5 & 1.0625\\end{matrix}\\right]$"
      ],
      "text/plain": [
       "Matrix([\n",
       "[  0.9375,  -0.003173828125,         0, -0.00390625],\n",
       "[       0,     0.9990234375,     -0.25,    0.046875],\n",
       "[-0.09375, -0.0067138671875, 0.9765625,           0],\n",
       "[     2.5,      0.080078125,       0.5,      1.0625]])"
      ]
     },
     "execution_count": 307,
     "metadata": {},
     "output_type": "execute_result"
    }
   ],
   "source": [
    "s.inv(method='LU')*s"
   ]
  },
  {
   "cell_type": "code",
   "execution_count": 308,
   "metadata": {},
   "outputs": [
    {
     "data": {
      "text/latex": [
       "$\\displaystyle \\left[\\begin{matrix}0.90625 & -0.0076904296875 & 0 & -0.00390625\\\\0.5 & 1.0654296875 & 0 & 0.015625\\\\-0.015625 & -0.00103759765625 & 1.0078125 & 0.0009765625\\\\0.5 & 0.095703125 & -0.5 & 0.96875\\end{matrix}\\right]$"
      ],
      "text/plain": [
       "Matrix([\n",
       "[  0.90625,  -0.0076904296875,         0,  -0.00390625],\n",
       "[      0.5,      1.0654296875,         0,     0.015625],\n",
       "[-0.015625, -0.00103759765625, 1.0078125, 0.0009765625],\n",
       "[      0.5,       0.095703125,      -0.5,      0.96875]])"
      ]
     },
     "execution_count": 308,
     "metadata": {},
     "output_type": "execute_result"
    }
   ],
   "source": [
    "s.inv()*s"
   ]
  },
  {
   "cell_type": "code",
   "execution_count": 316,
   "metadata": {},
   "outputs": [
    {
     "data": {
      "text/plain": [
       "matrix(\n",
       "[['0.999884881496446', '-4.71461046974398e-6', '-2.17344391628326e-5', '-2.95495275116728e-6'],\n",
       " ['-0.000392642539115133', '0.999935199044605', '-7.74422816331081e-5', '2.77002637605854e-6'],\n",
       " ['4.74481574803079e-5', '1.93940480276433e-6', '1.00004111786603', '2.68510370981409e-6'],\n",
       " ['-0.000101793090770194', '-2.94042208397649e-5', '-0.00038327651122361', '0.999987003591562']])"
      ]
     },
     "execution_count": 316,
     "metadata": {},
     "output_type": "execute_result"
    }
   ],
   "source": [
    "(mpmath.inverse(bb)*bb)"
   ]
  },
  {
   "cell_type": "code",
   "execution_count": 317,
   "metadata": {},
   "outputs": [
    {
     "ename": "AttributeError",
     "evalue": "module 'sympy' has no attribute 'spymbols'",
     "output_type": "error",
     "traceback": [
      "\u001b[0;31m---------------------------------------------------------------------------\u001b[0m",
      "\u001b[0;31mAttributeError\u001b[0m                            Traceback (most recent call last)",
      "\u001b[0;32m<ipython-input-317-62d7da16a7a2>\u001b[0m in \u001b[0;36m<module>\u001b[0;34m\u001b[0m\n\u001b[0;32m----> 1\u001b[0;31m \u001b[0mA\u001b[0m\u001b[0;34m,\u001b[0m \u001b[0mB\u001b[0m \u001b[0;34m=\u001b[0m \u001b[0msp\u001b[0m\u001b[0;34m.\u001b[0m\u001b[0mspymbols\u001b[0m\u001b[0;34m(\u001b[0m\u001b[0;34m'A B'\u001b[0m\u001b[0;34m)\u001b[0m\u001b[0;34m\u001b[0m\u001b[0;34m\u001b[0m\u001b[0m\n\u001b[0m",
      "\u001b[0;31mAttributeError\u001b[0m: module 'sympy' has no attribute 'spymbols'"
     ]
    }
   ],
   "source": [
    "A, B = sp.spymbols('A B')"
   ]
  },
  {
   "cell_type": "code",
   "execution_count": null,
   "metadata": {},
   "outputs": [],
   "source": []
  }
 ],
 "metadata": {
  "kernelspec": {
   "display_name": "Python 3",
   "language": "python",
   "name": "python3"
  },
  "language_info": {
   "codemirror_mode": {
    "name": "ipython",
    "version": 3
   },
   "file_extension": ".py",
   "mimetype": "text/x-python",
   "name": "python",
   "nbconvert_exporter": "python",
   "pygments_lexer": "ipython3",
   "version": "3.7.4"
  }
 },
 "nbformat": 4,
 "nbformat_minor": 2
}
